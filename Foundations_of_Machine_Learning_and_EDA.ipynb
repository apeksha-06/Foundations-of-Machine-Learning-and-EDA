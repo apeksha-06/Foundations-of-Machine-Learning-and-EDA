{
  "nbformat": 4,
  "nbformat_minor": 0,
  "metadata": {
    "colab": {
      "provenance": []
    },
    "kernelspec": {
      "name": "python3",
      "display_name": "Python 3"
    },
    "language_info": {
      "name": "python"
    }
  },
  "cells": [
    {
      "cell_type": "markdown",
      "source": [
        "**Foundations of Machine Learning and\n",
        "EDA**"
      ],
      "metadata": {
        "id": "U7EOfkmEhIme"
      }
    },
    {
      "cell_type": "markdown",
      "source": [
        "1. **What is the difference between AL,ML,DL, and Data science? Provide a brief explanation of each.**\n",
        "\n",
        "\n",
        "\n",
        "   -> The difference between AL,ML,DL, and Data science are:-\n",
        "\n",
        "   -  Artificial Intelligence (AI):- This is the broadest concept, referring to the simulation of human intelligence in machines that are programmed to think and learn like humans. Its scope is vast, encompassing any technique that enables computers to mimic human intelligence. Techniques include search algorithms, logic, and knowledge representation. Applications are everywhere, from virtual assistants and self-driving cars to medical diagnosis and game playing.\n",
        "\n",
        "   - Machine Learning (ML):- A subset of AI that focuses on enabling systems to learn from data and improve over time without being explicitly programmed. Its scope is specifically about learning from data. Techniques include supervised learning (e.g., regression, classification), unsupervised learning (e.g., clustering), and reinforcement learning. Applications include spam detection, recommendation systems, and fraud detection.\n",
        "\n",
        "   - Deep Learning (DL):- A subfield of Machine Learning that uses artificial neural networks with multiple layers (hence \"deep\") to model complex patterns in data. Its scope is centered on using deep neural networks for learning. Techniques involve various neural network architectures like Convolutional Neural Networks (CNNs) for images and Recurrent Neural Networks (RNNs) for sequential data. Applications include image and speech recognition, natural language processing, and drug discovery.\n",
        "\n",
        "   - Data Science:-  An interdisciplinary field that uses scientific methods, processes, algorithms, and systems to extract knowledge and insights from structured and unstructured data. Its scope is broader than just ML and DL, involving the entire process of data collection, cleaning, analysis, visualization, and interpretation. Techniques draw from statistics, mathematics, computer science, and domain expertise. Applications are widespread across industries for decision-making, trend analysis, and predictive modeling.\n",
        "\n",
        "   In essence:-\n",
        "\n",
        "   \n",
        "    - AI is the overarching goal of creating intelligent machines.\n",
        "    - ML is one way to achieve AI by learning from data.\n",
        "    - DL is a specific type of ML that uses deep neural networks.\n",
        "    - Data Science is the field that uses various techniques, including ML and DL, to extract insights from data.\n",
        "\n",
        "\n",
        "\n",
        "\n",
        "2. **Explain overfitting and underfitting in ML. How can you detect and prevent them?**\n",
        "\n",
        "\n",
        "\n",
        "   -> overfitting and underfitting in ML:-\n",
        "   - Overfitting: This occurs when a model learns the training data too well, including the noise and outliers. As a result, the model performs very well on the training data but poorly on unseen or new data.\n",
        "\n",
        "     - Detection: High accuracy on training data, but significantly lower accuracy on validation or test data.\n",
        "     - Prevention:\n",
        "        - More data: Increasing the amount of training data can help the model generalize better.\n",
        "        - Feature selection: Removing irrelevant or redundant features can reduce complexity.\n",
        "        - Regularization: Techniques like L1 and L2 regularization add a penalty to the model's complexity, discouraging large coefficients.\n",
        "        - Cross-validation: Using techniques like k-fold cross-validation helps evaluate the model's performance on different subsets of the data, providing a more reliable estimate of its generalization ability.\n",
        "        - Simplifying the model: Using a simpler model with fewer parameters can reduce the risk of overfitting.\n",
        "        - Dropout (in neural networks): Randomly dropping out neurons during training prevents the network from becoming too reliant on specific connections.\n",
        "    - Underfitting: This occurs when a model is too simple to capture the underlying patterns in the training data. It performs poorly on both the training data and unseen data.\n",
        "\n",
        "      - Detection: Low accuracy on both training and validation/test data.\n",
        "      - Prevention:\n",
        "         -  More complex model: Using a more complex model with more parameters or layers (e.g., a higher degree polynomial for regression, or a deeper neural network).\n",
        "         - More features: Adding more relevant features to the dataset can help the model capture more patterns.\n",
        "         - Reducing regularization: If regularization was applied, reducing its strength can allow the model to fit the data more closely.\n",
        "         - Increasing training time: For iterative algorithms, training for more epochs might be necessary (though be careful not to overfit).\n",
        "   - Bias-Variance Tradeoff:\n",
        "\n",
        "      - Bias: The error introduced by approximating a real-world problem, which may be complex, by a simplified model. High bias leads to underfitting.\n",
        "      - Variance: The sensitivity of the model to the specific training data. High variance leads to overfitting.\n",
        "      - The bias-variance tradeoff is a fundamental concept in ML. We aim to find a balance between bias and variance to achieve good generalization performance. Increasing model complexity typically decreases bias but increases variance, and vice versa. Regularization and cross-validation are techniques used to manage this tradeoff.\n",
        "\n",
        "\n",
        "\n",
        "\n",
        "\n",
        "\n",
        "3. **How would you handle missing values in a dataset? Explain at least three methods with examples.**\n",
        "\n",
        "\n",
        "\n",
        "\n",
        "   -> Handling missing values is a crucial step in data preprocessing. Here are three common methods:-\n",
        "\n",
        "   - Deletion:-\n",
        "\n",
        "      - Explanation: This involves removing rows or columns that contain missing values.\n",
        "      - When to use: This method is suitable when the percentage of missing data is small and the missingness is not concentrated in specific rows or columns that are important for the analysis.\n",
        "      - Examples:\n",
        "         - eleting rows: If only a few rows have missing values in a large dataset, you can drop those rows using pandas' dropna() function.\n",
        "         - Deleting columns: If a column has a very high percentage of missing values and is not critical for the analysis, you can drop the entire column.\n",
        "     - Caveats: Deletion can lead to a significant loss of data, which can be problematic if the dataset is small or the missingness is not random.\n",
        "\n",
        "   - Mean/Median/Mode Imputation:-\n",
        "\n",
        "      - Explanation: This involves replacing missing values with the mean, median, or mode of the non-missing values in the respective column.\n",
        "      - When to use: This method is simple and quick. Mean imputation is suitable for numerical data with a normal distribution, while median imputation is more robust to outliers. Mode imputation is used for categorical data.\n",
        "      - Examples:\n",
        "           - Mean imputation: Replace missing age values with the average age of the non-missing entries.\n",
        "           - Median imputation: Replace missing income values with the median income to be less affected by extreme values.\n",
        "           - Mode imputation: Replace missing city values with the most frequent city in the dataset.\n",
        "     - Caveats: Imputation with a single value can distort the original distribution of the data and reduce variance. It also doesn't account for the relationships between variables.\n",
        "\n",
        "   - Predictive Modeling (e.g., using K-Nearest Neighbors or Regression):\n",
        "\n",
        "      - Explanation: This method involves building a model to predict the missing values based on the other variables in the dataset.\n",
        "      - When to use: This is a more sophisticated method that can capture relationships between variables and provide more accurate imputations, especially when the missingness is not random.\n",
        "      - Examples:\n",
        "             - K-Nearest Neighbors (KNN) imputation: For a missing age value, find the k-nearest neighbors (based on other features) of the data point with the missing value and impute the age based on the ages of those neighbors (e.g., average age of neighbors).\n",
        "             - Regression imputation: If you have missing values in a numerical variable, you can build a regression model using other variables as predictors to estimate the missing values.\n",
        "     - Caveats: This method is more computationally expensive than simpler methods. The accuracy of the imputation depends on the quality of the model and the relationships between variables.\n",
        "\n",
        "      The choice of method for handling missing values depends on the nature of the data, the amount of missingness, and the goals of the analysis. It's often a good practice to explore the patterns of missingness before deciding on a method.\n",
        "\n",
        "\n",
        "4. **What is an imbalanced dataset? Describe two techniques to handle it (theoretical and practical).**\n",
        "\n",
        "\n",
        "\n",
        "\n",
        "\n",
        "   -> An imbalanced dataset is one where the distribution of the target variable's classes is not equal. This means that some classes have a significantly larger number of instances than others. This can be a problem for machine learning models, as they may become biased towards the majority class and perform poorly on the minority class.\n",
        "\n",
        "     Here are two techniques to handle imbalanced datasets:\n",
        "\n",
        "     - Resampling Techniques: These techniques involve changing the distribution of the dataset to make the classes more balanced.\n",
        "\n",
        "        - Oversampling: This involves increasing the number of instances in the minority class.\n",
        "        - Theoretical: You can randomly duplicate instances from the minority class or use more sophisticated methods like SMOTE (Synthetic Minority Over-sampling Technique). SMOTE creates synthetic instances of the minority class by interpolating between existing minority class instances.\n",
        "        - Practical Example (using SMOTE with Python):  "
      ],
      "metadata": {
        "id": "37ZxaRjdhqNx"
      }
    },
    {
      "cell_type": "code",
      "source": [
        "from collections import Counter\n",
        "from sklearn.datasets import make_classification\n",
        "from imblearn.under_sampling import RandomUnderSampler\n",
        "\n",
        "# Create a sample imbalanced dataset\n",
        "X, y = make_classification(n_classes=2, class_sep=2,\n",
        "weights=[0.9, 0.1], n_informative=3, n_redundant=1, flip_y=0,\n",
        "n_features=20, n_clusters_per_class=1, n_samples=1000, random_state=10)\n",
        "\n",
        "print(f\"Original dataset shape: {Counter(y)}\")\n",
        "\n",
        "# Apply Random Under-sampling\n",
        "rus = RandomUnderSampler(random_state=42)\n",
        "X_res, y_res = rus.fit_resample(X, y)\n",
        "\n",
        "print(f\"Resampled dataset shape: {Counter(y_res)}\")"
      ],
      "metadata": {
        "colab": {
          "base_uri": "https://localhost:8080/"
        },
        "id": "JWsrtKwqOZMj",
        "outputId": "597371db-35ad-44e4-c09c-862a7e9f85a1"
      },
      "execution_count": null,
      "outputs": [
        {
          "output_type": "stream",
          "name": "stdout",
          "text": [
            "Original dataset shape: Counter({np.int64(0): 900, np.int64(1): 100})\n",
            "Resampled dataset shape: Counter({np.int64(0): 100, np.int64(1): 100})\n"
          ]
        }
      ]
    },
    {
      "cell_type": "code",
      "source": [
        "from sklearn.linear_model import LogisticRegression\n",
        "from sklearn.model_selection import train_test_split\n",
        "from sklearn.datasets import make_classification\n",
        "from sklearn.metrics import classification_report\n",
        "\n",
        "# Create a sample imbalanced dataset\n",
        "X, y = make_classification(n_classes=2, class_sep=2,\n",
        "weights=[0.9, 0.1], n_informative=3, n_redundant=1, flip_y=0,\n",
        "n_features=20, n_clusters_per_class=1, n_samples=1000, random_state=10)\n",
        "\n",
        "X_train, X_test, y_train, y_test = train_test_split(X, y, test_size=0.2, random_state=42)\n",
        "\n",
        "# Train a logistic regression model without class weights\n",
        "model_no_weights = LogisticRegression()\n",
        "model_no_weights.fit(X_train, y_train)\n",
        "y_pred_no_weights = model_no_weights.predict(X_test)\n",
        "print(\"Classification Report (without class weights):\")\n",
        "print(classification_report(y_test, y_pred_no_weights))\n",
        "\n",
        "# Train a logistic regression model with class weights\n",
        "# 'balanced' automatically adjusts weights inversely proportional to class frequencies\n",
        "model_with_weights = LogisticRegression(class_weight='balanced')\n",
        "model_with_weights.fit(X_train, y_train)\n",
        "y_pred_with_weights = model_with_weights.predict(X_test)\n",
        "print(\"\\nClassification Report (with class weights):\")\n",
        "print(classification_report(y_test, y_pred_with_weights))"
      ],
      "metadata": {
        "colab": {
          "base_uri": "https://localhost:8080/"
        },
        "id": "0uJUYUWpVAcR",
        "outputId": "ccf511eb-0c73-43dc-ee90-41676cb18af7"
      },
      "execution_count": null,
      "outputs": [
        {
          "output_type": "stream",
          "name": "stdout",
          "text": [
            "Classification Report (without class weights):\n",
            "              precision    recall  f1-score   support\n",
            "\n",
            "           0       1.00      0.99      1.00       181\n",
            "           1       0.95      1.00      0.97        19\n",
            "\n",
            "    accuracy                           0.99       200\n",
            "   macro avg       0.97      1.00      0.99       200\n",
            "weighted avg       1.00      0.99      1.00       200\n",
            "\n",
            "\n",
            "Classification Report (with class weights):\n",
            "              precision    recall  f1-score   support\n",
            "\n",
            "           0       1.00      0.99      0.99       181\n",
            "           1       0.90      1.00      0.95        19\n",
            "\n",
            "    accuracy                           0.99       200\n",
            "   macro avg       0.95      0.99      0.97       200\n",
            "weighted avg       0.99      0.99      0.99       200\n",
            "\n"
          ]
        }
      ]
    },
    {
      "cell_type": "markdown",
      "source": [
        "5. **Why is feature scaling important in ML? Compare min-max scaling and standardization.**\n",
        "\n",
        "\n",
        "\n",
        "     -> Feature scaling is a crucial preprocessing step in Machine Learning, especially for algorithms that are sensitive to the scale of the input features. Here's why it's important and a comparison of two common methods: Min-Max scaling and Standardization.\n",
        "\n",
        "      Why is Feature Scaling Important?\n",
        "\n",
        "      Many machine learning algorithms, particularly those that rely on distance calculations or gradient descent, are significantly affected by the scale of the features.\n",
        "\n",
        "      - Distance-based algorithms (e.g., K-Nearest Neighbors (KNN), Support Vector Machines (SVM) with RBF kernel): These algorithms calculate distances between data points. If features have different scales, features with larger values will dominate the distance calculation, effectively ignoring features with smaller values. Scaling ensures that all features contribute equally to the distance metric.\n",
        "      - Gradient Descent based algorithms (e.g., Linear Regression, Logistic Regression, Neural Networks): Gradient descent algorithms find the minimum of a cost function by iteratively updating model parameters. If features are not scaled, the cost function will have elongated or stretched contours, making the optimization process slower and potentially causing the algorithm to oscillate and converge slowly or not converge at all. Scaling makes the contours more spherical, leading to faster and more stable convergence.\n",
        "      - Regularization techniques (e.g., L1 and L2 regularization): These techniques add a penalty to the magnitude of the model coefficients. If features are not scaled, the penalty will disproportionately affect coefficients associated with features that have larger values, regardless of their actual importance. Scaling ensures that the regularization penalty is applied fairly to all coefficients.\n",
        "\n",
        "      - Comparison of Min-Max Scaling and Standardization:\n",
        "\n",
        "      Here's a comparison of two popular feature scaling techniques:\n",
        "\n",
        "      - Min-Max Scaling (Normalization):\n",
        "\n",
        "        - Explanation: This technique scales features to a fixed range, usually between 0 and 1. The formula is: X scaled = (x - xmin) / (xmax - xmin) where X is the original feature value, Xmin is the minimum value of the feature, and  Xmax is the maximum value of the feature.\n",
        "        - Pros:\n",
        "           - Easy to understand and implement.\n",
        "           - Scales data to a specific range, which can be useful for algorithms that require inputs in a certain range (e.g., neural networks with sigmoid activation functions).\n",
        "        - Cons:\n",
        "           - Sensitive to outliers: Outliers can significantly affect the minimum and maximum values, leading to a distorted scaled distribution.\n",
        "           - Compresses the range of values: If the original data has a wide range, Min-Max scaling can compress the values, potentially losing some information about the relative distances between data points.\n",
        "\n",
        "    - Standardization (Z-score normalization):\n",
        "\n",
        "      - Explanation: This technique scales features to have a mean of 0 and a standard deviation of 1. The formula is: Xscaled = X-μ /σ where X is the original feature value, μ is the mean of the feature, and σ is the standard deviation of the feature.\n",
        "      - Pros:\n",
        "        - Less affected by outliers: Standardization uses the mean and standard deviation, which are less sensitive to extreme values compared to the minimum and maximum.\n",
        "        - Preserves the shape of the original distribution: Standardization centers the data around 0 but does not change the shape of the distribution.\n",
        "      - Cons:\n",
        "        - The scaled values do not have a fixed range, which might be a concern for some algorithms.\n",
        "\n",
        "       Which one to use?\n",
        "\n",
        "       The choice between Min-Max scaling and Standardization depends on the specific algorithm and the nature of the data:\n",
        "\n",
        "        - Standardization is generally preferred for algorithms that assume a Gaussian distribution or are sensitive to outliers (e.g., Logistic Regression, Linear Regression, SVM, K-Means).\n",
        "        - Min-Max scaling is often used when you need to scale data to a specific range (e.g., for image processing or when using neural networks with certain activation functions).\n",
        "\n",
        "        It's often a good practice to try both and evaluate which one performs better for your specific task.\n",
        "\n",
        "\n",
        "\n",
        "6. **Compare label encoding and one-hot encoding. when would you prefer one over the other?**\n",
        "\n",
        "\n",
        "\n",
        "   -> When dealing with categorical variables in machine learning, we need to convert them into a numerical format that models can understand. Two common techniques for this are Label Encoding and One-Hot Encoding.\n",
        "\n",
        "   - Label Encoding:\n",
        "\n",
        "      - Explanation: Label Encoding assigns a unique integer to each category in a column. For example, if you have a \"color\" column with categories \"Red\", \"Green\", and \"Blue\", Label Encoding might assign 0 to \"Red\", 1 to \"Green\", and 2 to \"Blue\".\n",
        "      - How it works: It simply maps each unique category to a numerical label.\n",
        "      - When to use: Label Encoding is suitable for ordinal categorical variables, where there is an inherent order or ranking among the categories (e.g., \"Small\", \"Medium\", \"Large\"). In this case, the numerical order reflects the categorical order.\n",
        "      - Caveats: If you use Label Encoding on nominal categorical variables (where there is no inherent order, like colors), the model might incorrectly interpret the numerical order as a ranking, which can lead to biased or incorrect results.\n",
        "\n",
        "    - One-Hot Encoding:\n",
        "\n",
        "      - Explanation: One-Hot Encoding creates new binary columns for each category in a categorical feature. For example, for the \"color\" column with \"Red\", \"Green\", and \"Blue\", it would create three new columns: \"Color_Red\", \"Color_Green\", and \"Color_Blue\". For a data point where the color is \"Red\", the \"Color_Red\" column would have a value of 1, and the other color columns would have a value of 0.\n",
        "     - How it works: It represents each category as a binary vector where only one element is 1 (indicating the presence of that category) and the rest are 0.\n",
        "     - When to use: One-Hot Encoding is generally preferred for nominal categorical variables, where there is no inherent order among the categories. It avoids creating the false sense of order that Label Encoding introduces for nominal data.\n",
        "     - Caveats: One-Hot Encoding can lead to a significant increase in the number of features, especially if a categorical variable has many unique categories. This can result in a sparse dataset and the \"curse of dimensionality,\" which can impact model performance and increase computational cost. Additionally, it can introduce multicollinearity if all dummy variables are kept, which can be an issue for some models (this is often handled by dropping one of the dummy variables).\n",
        "\n",
        "     "
      ],
      "metadata": {
        "id": "skAGe-dlVCH3"
      }
    },
    {
      "cell_type": "code",
      "source": [
        "#7 Google play store dataset\n",
        "# a) Analyze the relationship between app categories and ratings. which categories have the highest/lowest average ratings, and what could be the possible reasons?\n",
        "\n",
        "\n",
        "Load the dataset\n",
        "\n",
        "Subtask:\n",
        "Load the googleplaystore.csv file into a pandas DataFrame.\n",
        "\n",
        "Reasoning: Load the data into a pandas DataFrame and display the first few rows.\n"
      ],
      "metadata": {
        "id": "SJGgFSYLx8LR"
      },
      "execution_count": null,
      "outputs": []
    },
    {
      "cell_type": "code",
      "source": [
        "from google.colab import files\n",
        "\n",
        "print(\"Please select the Travel.csv  file to upload.\")\n",
        "uploaded = files.upload()"
      ],
      "metadata": {
        "colab": {
          "base_uri": "https://localhost:8080/",
          "height": 91
        },
        "id": "4k-ueDQxxzNm",
        "outputId": "aac953da-22c8-483a-9d34-2e7741770dd6"
      },
      "execution_count": null,
      "outputs": [
        {
          "output_type": "stream",
          "name": "stdout",
          "text": [
            "Please select the Travel.csv  file to upload.\n"
          ]
        },
        {
          "output_type": "display_data",
          "data": {
            "text/plain": [
              "<IPython.core.display.HTML object>"
            ],
            "text/html": [
              "\n",
              "     <input type=\"file\" id=\"files-e79864ca-f994-4f97-b545-af7f6b0ef33c\" name=\"files[]\" multiple disabled\n",
              "        style=\"border:none\" />\n",
              "     <output id=\"result-e79864ca-f994-4f97-b545-af7f6b0ef33c\">\n",
              "      Upload widget is only available when the cell has been executed in the\n",
              "      current browser session. Please rerun this cell to enable.\n",
              "      </output>\n",
              "      <script>// Copyright 2017 Google LLC\n",
              "//\n",
              "// Licensed under the Apache License, Version 2.0 (the \"License\");\n",
              "// you may not use this file except in compliance with the License.\n",
              "// You may obtain a copy of the License at\n",
              "//\n",
              "//      http://www.apache.org/licenses/LICENSE-2.0\n",
              "//\n",
              "// Unless required by applicable law or agreed to in writing, software\n",
              "// distributed under the License is distributed on an \"AS IS\" BASIS,\n",
              "// WITHOUT WARRANTIES OR CONDITIONS OF ANY KIND, either express or implied.\n",
              "// See the License for the specific language governing permissions and\n",
              "// limitations under the License.\n",
              "\n",
              "/**\n",
              " * @fileoverview Helpers for google.colab Python module.\n",
              " */\n",
              "(function(scope) {\n",
              "function span(text, styleAttributes = {}) {\n",
              "  const element = document.createElement('span');\n",
              "  element.textContent = text;\n",
              "  for (const key of Object.keys(styleAttributes)) {\n",
              "    element.style[key] = styleAttributes[key];\n",
              "  }\n",
              "  return element;\n",
              "}\n",
              "\n",
              "// Max number of bytes which will be uploaded at a time.\n",
              "const MAX_PAYLOAD_SIZE = 100 * 1024;\n",
              "\n",
              "function _uploadFiles(inputId, outputId) {\n",
              "  const steps = uploadFilesStep(inputId, outputId);\n",
              "  const outputElement = document.getElementById(outputId);\n",
              "  // Cache steps on the outputElement to make it available for the next call\n",
              "  // to uploadFilesContinue from Python.\n",
              "  outputElement.steps = steps;\n",
              "\n",
              "  return _uploadFilesContinue(outputId);\n",
              "}\n",
              "\n",
              "// This is roughly an async generator (not supported in the browser yet),\n",
              "// where there are multiple asynchronous steps and the Python side is going\n",
              "// to poll for completion of each step.\n",
              "// This uses a Promise to block the python side on completion of each step,\n",
              "// then passes the result of the previous step as the input to the next step.\n",
              "function _uploadFilesContinue(outputId) {\n",
              "  const outputElement = document.getElementById(outputId);\n",
              "  const steps = outputElement.steps;\n",
              "\n",
              "  const next = steps.next(outputElement.lastPromiseValue);\n",
              "  return Promise.resolve(next.value.promise).then((value) => {\n",
              "    // Cache the last promise value to make it available to the next\n",
              "    // step of the generator.\n",
              "    outputElement.lastPromiseValue = value;\n",
              "    return next.value.response;\n",
              "  });\n",
              "}\n",
              "\n",
              "/**\n",
              " * Generator function which is called between each async step of the upload\n",
              " * process.\n",
              " * @param {string} inputId Element ID of the input file picker element.\n",
              " * @param {string} outputId Element ID of the output display.\n",
              " * @return {!Iterable<!Object>} Iterable of next steps.\n",
              " */\n",
              "function* uploadFilesStep(inputId, outputId) {\n",
              "  const inputElement = document.getElementById(inputId);\n",
              "  inputElement.disabled = false;\n",
              "\n",
              "  const outputElement = document.getElementById(outputId);\n",
              "  outputElement.innerHTML = '';\n",
              "\n",
              "  const pickedPromise = new Promise((resolve) => {\n",
              "    inputElement.addEventListener('change', (e) => {\n",
              "      resolve(e.target.files);\n",
              "    });\n",
              "  });\n",
              "\n",
              "  const cancel = document.createElement('button');\n",
              "  inputElement.parentElement.appendChild(cancel);\n",
              "  cancel.textContent = 'Cancel upload';\n",
              "  const cancelPromise = new Promise((resolve) => {\n",
              "    cancel.onclick = () => {\n",
              "      resolve(null);\n",
              "    };\n",
              "  });\n",
              "\n",
              "  // Wait for the user to pick the files.\n",
              "  const files = yield {\n",
              "    promise: Promise.race([pickedPromise, cancelPromise]),\n",
              "    response: {\n",
              "      action: 'starting',\n",
              "    }\n",
              "  };\n",
              "\n",
              "  cancel.remove();\n",
              "\n",
              "  // Disable the input element since further picks are not allowed.\n",
              "  inputElement.disabled = true;\n",
              "\n",
              "  if (!files) {\n",
              "    return {\n",
              "      response: {\n",
              "        action: 'complete',\n",
              "      }\n",
              "    };\n",
              "  }\n",
              "\n",
              "  for (const file of files) {\n",
              "    const li = document.createElement('li');\n",
              "    li.append(span(file.name, {fontWeight: 'bold'}));\n",
              "    li.append(span(\n",
              "        `(${file.type || 'n/a'}) - ${file.size} bytes, ` +\n",
              "        `last modified: ${\n",
              "            file.lastModifiedDate ? file.lastModifiedDate.toLocaleDateString() :\n",
              "                                    'n/a'} - `));\n",
              "    const percent = span('0% done');\n",
              "    li.appendChild(percent);\n",
              "\n",
              "    outputElement.appendChild(li);\n",
              "\n",
              "    const fileDataPromise = new Promise((resolve) => {\n",
              "      const reader = new FileReader();\n",
              "      reader.onload = (e) => {\n",
              "        resolve(e.target.result);\n",
              "      };\n",
              "      reader.readAsArrayBuffer(file);\n",
              "    });\n",
              "    // Wait for the data to be ready.\n",
              "    let fileData = yield {\n",
              "      promise: fileDataPromise,\n",
              "      response: {\n",
              "        action: 'continue',\n",
              "      }\n",
              "    };\n",
              "\n",
              "    // Use a chunked sending to avoid message size limits. See b/62115660.\n",
              "    let position = 0;\n",
              "    do {\n",
              "      const length = Math.min(fileData.byteLength - position, MAX_PAYLOAD_SIZE);\n",
              "      const chunk = new Uint8Array(fileData, position, length);\n",
              "      position += length;\n",
              "\n",
              "      const base64 = btoa(String.fromCharCode.apply(null, chunk));\n",
              "      yield {\n",
              "        response: {\n",
              "          action: 'append',\n",
              "          file: file.name,\n",
              "          data: base64,\n",
              "        },\n",
              "      };\n",
              "\n",
              "      let percentDone = fileData.byteLength === 0 ?\n",
              "          100 :\n",
              "          Math.round((position / fileData.byteLength) * 100);\n",
              "      percent.textContent = `${percentDone}% done`;\n",
              "\n",
              "    } while (position < fileData.byteLength);\n",
              "  }\n",
              "\n",
              "  // All done.\n",
              "  yield {\n",
              "    response: {\n",
              "      action: 'complete',\n",
              "    }\n",
              "  };\n",
              "}\n",
              "\n",
              "scope.google = scope.google || {};\n",
              "scope.google.colab = scope.google.colab || {};\n",
              "scope.google.colab._files = {\n",
              "  _uploadFiles,\n",
              "  _uploadFilesContinue,\n",
              "};\n",
              "})(self);\n",
              "</script> "
            ]
          },
          "metadata": {}
        },
        {
          "output_type": "stream",
          "name": "stdout",
          "text": [
            "Saving googleplaystore.csv to googleplaystore.csv\n"
          ]
        }
      ]
    },
    {
      "cell_type": "code",
      "source": [
        "\n",
        "\n",
        "import pandas as pd\n",
        "df = pd.read_csv('/content/googleplaystore.csv')\n",
        "display(df.head())"
      ],
      "metadata": {
        "colab": {
          "base_uri": "https://localhost:8080/",
          "height": 573
        },
        "id": "KD-xThyOx9ji",
        "outputId": "b6a7e643-890c-400d-9afb-7dbe06bd3ae1"
      },
      "execution_count": null,
      "outputs": [
        {
          "output_type": "display_data",
          "data": {
            "text/plain": [
              "                                                 App        Category  Rating  \\\n",
              "0     Photo Editor & Candy Camera & Grid & ScrapBook  ART_AND_DESIGN     4.1   \n",
              "1                                Coloring book moana  ART_AND_DESIGN     3.9   \n",
              "2  U Launcher Lite – FREE Live Cool Themes, Hide ...  ART_AND_DESIGN     4.7   \n",
              "3                              Sketch - Draw & Paint  ART_AND_DESIGN     4.5   \n",
              "4              Pixel Draw - Number Art Coloring Book  ART_AND_DESIGN     4.3   \n",
              "\n",
              "  Reviews  Size     Installs  Type Price Content Rating  \\\n",
              "0     159   19M      10,000+  Free     0       Everyone   \n",
              "1     967   14M     500,000+  Free     0       Everyone   \n",
              "2   87510  8.7M   5,000,000+  Free     0       Everyone   \n",
              "3  215644   25M  50,000,000+  Free     0           Teen   \n",
              "4     967  2.8M     100,000+  Free     0       Everyone   \n",
              "\n",
              "                      Genres      Last Updated         Current Ver  \\\n",
              "0               Art & Design   January 7, 2018               1.0.0   \n",
              "1  Art & Design;Pretend Play  January 15, 2018               2.0.0   \n",
              "2               Art & Design    August 1, 2018               1.2.4   \n",
              "3               Art & Design      June 8, 2018  Varies with device   \n",
              "4    Art & Design;Creativity     June 20, 2018                 1.1   \n",
              "\n",
              "    Android Ver  \n",
              "0  4.0.3 and up  \n",
              "1  4.0.3 and up  \n",
              "2  4.0.3 and up  \n",
              "3    4.2 and up  \n",
              "4    4.4 and up  "
            ],
            "text/html": [
              "\n",
              "  <div id=\"df-2adc0453-fdc6-4713-b782-b53b83ef7fa4\" class=\"colab-df-container\">\n",
              "    <div>\n",
              "<style scoped>\n",
              "    .dataframe tbody tr th:only-of-type {\n",
              "        vertical-align: middle;\n",
              "    }\n",
              "\n",
              "    .dataframe tbody tr th {\n",
              "        vertical-align: top;\n",
              "    }\n",
              "\n",
              "    .dataframe thead th {\n",
              "        text-align: right;\n",
              "    }\n",
              "</style>\n",
              "<table border=\"1\" class=\"dataframe\">\n",
              "  <thead>\n",
              "    <tr style=\"text-align: right;\">\n",
              "      <th></th>\n",
              "      <th>App</th>\n",
              "      <th>Category</th>\n",
              "      <th>Rating</th>\n",
              "      <th>Reviews</th>\n",
              "      <th>Size</th>\n",
              "      <th>Installs</th>\n",
              "      <th>Type</th>\n",
              "      <th>Price</th>\n",
              "      <th>Content Rating</th>\n",
              "      <th>Genres</th>\n",
              "      <th>Last Updated</th>\n",
              "      <th>Current Ver</th>\n",
              "      <th>Android Ver</th>\n",
              "    </tr>\n",
              "  </thead>\n",
              "  <tbody>\n",
              "    <tr>\n",
              "      <th>0</th>\n",
              "      <td>Photo Editor &amp; Candy Camera &amp; Grid &amp; ScrapBook</td>\n",
              "      <td>ART_AND_DESIGN</td>\n",
              "      <td>4.1</td>\n",
              "      <td>159</td>\n",
              "      <td>19M</td>\n",
              "      <td>10,000+</td>\n",
              "      <td>Free</td>\n",
              "      <td>0</td>\n",
              "      <td>Everyone</td>\n",
              "      <td>Art &amp; Design</td>\n",
              "      <td>January 7, 2018</td>\n",
              "      <td>1.0.0</td>\n",
              "      <td>4.0.3 and up</td>\n",
              "    </tr>\n",
              "    <tr>\n",
              "      <th>1</th>\n",
              "      <td>Coloring book moana</td>\n",
              "      <td>ART_AND_DESIGN</td>\n",
              "      <td>3.9</td>\n",
              "      <td>967</td>\n",
              "      <td>14M</td>\n",
              "      <td>500,000+</td>\n",
              "      <td>Free</td>\n",
              "      <td>0</td>\n",
              "      <td>Everyone</td>\n",
              "      <td>Art &amp; Design;Pretend Play</td>\n",
              "      <td>January 15, 2018</td>\n",
              "      <td>2.0.0</td>\n",
              "      <td>4.0.3 and up</td>\n",
              "    </tr>\n",
              "    <tr>\n",
              "      <th>2</th>\n",
              "      <td>U Launcher Lite – FREE Live Cool Themes, Hide ...</td>\n",
              "      <td>ART_AND_DESIGN</td>\n",
              "      <td>4.7</td>\n",
              "      <td>87510</td>\n",
              "      <td>8.7M</td>\n",
              "      <td>5,000,000+</td>\n",
              "      <td>Free</td>\n",
              "      <td>0</td>\n",
              "      <td>Everyone</td>\n",
              "      <td>Art &amp; Design</td>\n",
              "      <td>August 1, 2018</td>\n",
              "      <td>1.2.4</td>\n",
              "      <td>4.0.3 and up</td>\n",
              "    </tr>\n",
              "    <tr>\n",
              "      <th>3</th>\n",
              "      <td>Sketch - Draw &amp; Paint</td>\n",
              "      <td>ART_AND_DESIGN</td>\n",
              "      <td>4.5</td>\n",
              "      <td>215644</td>\n",
              "      <td>25M</td>\n",
              "      <td>50,000,000+</td>\n",
              "      <td>Free</td>\n",
              "      <td>0</td>\n",
              "      <td>Teen</td>\n",
              "      <td>Art &amp; Design</td>\n",
              "      <td>June 8, 2018</td>\n",
              "      <td>Varies with device</td>\n",
              "      <td>4.2 and up</td>\n",
              "    </tr>\n",
              "    <tr>\n",
              "      <th>4</th>\n",
              "      <td>Pixel Draw - Number Art Coloring Book</td>\n",
              "      <td>ART_AND_DESIGN</td>\n",
              "      <td>4.3</td>\n",
              "      <td>967</td>\n",
              "      <td>2.8M</td>\n",
              "      <td>100,000+</td>\n",
              "      <td>Free</td>\n",
              "      <td>0</td>\n",
              "      <td>Everyone</td>\n",
              "      <td>Art &amp; Design;Creativity</td>\n",
              "      <td>June 20, 2018</td>\n",
              "      <td>1.1</td>\n",
              "      <td>4.4 and up</td>\n",
              "    </tr>\n",
              "  </tbody>\n",
              "</table>\n",
              "</div>\n",
              "    <div class=\"colab-df-buttons\">\n",
              "\n",
              "  <div class=\"colab-df-container\">\n",
              "    <button class=\"colab-df-convert\" onclick=\"convertToInteractive('df-2adc0453-fdc6-4713-b782-b53b83ef7fa4')\"\n",
              "            title=\"Convert this dataframe to an interactive table.\"\n",
              "            style=\"display:none;\">\n",
              "\n",
              "  <svg xmlns=\"http://www.w3.org/2000/svg\" height=\"24px\" viewBox=\"0 -960 960 960\">\n",
              "    <path d=\"M120-120v-720h720v720H120Zm60-500h600v-160H180v160Zm220 220h160v-160H400v160Zm0 220h160v-160H400v160ZM180-400h160v-160H180v160Zm440 0h160v-160H620v160ZM180-180h160v-160H180v160Zm440 0h160v-160H620v160Z\"/>\n",
              "  </svg>\n",
              "    </button>\n",
              "\n",
              "  <style>\n",
              "    .colab-df-container {\n",
              "      display:flex;\n",
              "      gap: 12px;\n",
              "    }\n",
              "\n",
              "    .colab-df-convert {\n",
              "      background-color: #E8F0FE;\n",
              "      border: none;\n",
              "      border-radius: 50%;\n",
              "      cursor: pointer;\n",
              "      display: none;\n",
              "      fill: #1967D2;\n",
              "      height: 32px;\n",
              "      padding: 0 0 0 0;\n",
              "      width: 32px;\n",
              "    }\n",
              "\n",
              "    .colab-df-convert:hover {\n",
              "      background-color: #E2EBFA;\n",
              "      box-shadow: 0px 1px 2px rgba(60, 64, 67, 0.3), 0px 1px 3px 1px rgba(60, 64, 67, 0.15);\n",
              "      fill: #174EA6;\n",
              "    }\n",
              "\n",
              "    .colab-df-buttons div {\n",
              "      margin-bottom: 4px;\n",
              "    }\n",
              "\n",
              "    [theme=dark] .colab-df-convert {\n",
              "      background-color: #3B4455;\n",
              "      fill: #D2E3FC;\n",
              "    }\n",
              "\n",
              "    [theme=dark] .colab-df-convert:hover {\n",
              "      background-color: #434B5C;\n",
              "      box-shadow: 0px 1px 3px 1px rgba(0, 0, 0, 0.15);\n",
              "      filter: drop-shadow(0px 1px 2px rgba(0, 0, 0, 0.3));\n",
              "      fill: #FFFFFF;\n",
              "    }\n",
              "  </style>\n",
              "\n",
              "    <script>\n",
              "      const buttonEl =\n",
              "        document.querySelector('#df-2adc0453-fdc6-4713-b782-b53b83ef7fa4 button.colab-df-convert');\n",
              "      buttonEl.style.display =\n",
              "        google.colab.kernel.accessAllowed ? 'block' : 'none';\n",
              "\n",
              "      async function convertToInteractive(key) {\n",
              "        const element = document.querySelector('#df-2adc0453-fdc6-4713-b782-b53b83ef7fa4');\n",
              "        const dataTable =\n",
              "          await google.colab.kernel.invokeFunction('convertToInteractive',\n",
              "                                                    [key], {});\n",
              "        if (!dataTable) return;\n",
              "\n",
              "        const docLinkHtml = 'Like what you see? Visit the ' +\n",
              "          '<a target=\"_blank\" href=https://colab.research.google.com/notebooks/data_table.ipynb>data table notebook</a>'\n",
              "          + ' to learn more about interactive tables.';\n",
              "        element.innerHTML = '';\n",
              "        dataTable['output_type'] = 'display_data';\n",
              "        await google.colab.output.renderOutput(dataTable, element);\n",
              "        const docLink = document.createElement('div');\n",
              "        docLink.innerHTML = docLinkHtml;\n",
              "        element.appendChild(docLink);\n",
              "      }\n",
              "    </script>\n",
              "  </div>\n",
              "\n",
              "\n",
              "    <div id=\"df-df146383-a4ad-4684-b064-64b49618c458\">\n",
              "      <button class=\"colab-df-quickchart\" onclick=\"quickchart('df-df146383-a4ad-4684-b064-64b49618c458')\"\n",
              "                title=\"Suggest charts\"\n",
              "                style=\"display:none;\">\n",
              "\n",
              "<svg xmlns=\"http://www.w3.org/2000/svg\" height=\"24px\"viewBox=\"0 0 24 24\"\n",
              "     width=\"24px\">\n",
              "    <g>\n",
              "        <path d=\"M19 3H5c-1.1 0-2 .9-2 2v14c0 1.1.9 2 2 2h14c1.1 0 2-.9 2-2V5c0-1.1-.9-2-2-2zM9 17H7v-7h2v7zm4 0h-2V7h2v10zm4 0h-2v-4h2v4z\"/>\n",
              "    </g>\n",
              "</svg>\n",
              "      </button>\n",
              "\n",
              "<style>\n",
              "  .colab-df-quickchart {\n",
              "      --bg-color: #E8F0FE;\n",
              "      --fill-color: #1967D2;\n",
              "      --hover-bg-color: #E2EBFA;\n",
              "      --hover-fill-color: #174EA6;\n",
              "      --disabled-fill-color: #AAA;\n",
              "      --disabled-bg-color: #DDD;\n",
              "  }\n",
              "\n",
              "  [theme=dark] .colab-df-quickchart {\n",
              "      --bg-color: #3B4455;\n",
              "      --fill-color: #D2E3FC;\n",
              "      --hover-bg-color: #434B5C;\n",
              "      --hover-fill-color: #FFFFFF;\n",
              "      --disabled-bg-color: #3B4455;\n",
              "      --disabled-fill-color: #666;\n",
              "  }\n",
              "\n",
              "  .colab-df-quickchart {\n",
              "    background-color: var(--bg-color);\n",
              "    border: none;\n",
              "    border-radius: 50%;\n",
              "    cursor: pointer;\n",
              "    display: none;\n",
              "    fill: var(--fill-color);\n",
              "    height: 32px;\n",
              "    padding: 0;\n",
              "    width: 32px;\n",
              "  }\n",
              "\n",
              "  .colab-df-quickchart:hover {\n",
              "    background-color: var(--hover-bg-color);\n",
              "    box-shadow: 0 1px 2px rgba(60, 64, 67, 0.3), 0 1px 3px 1px rgba(60, 64, 67, 0.15);\n",
              "    fill: var(--button-hover-fill-color);\n",
              "  }\n",
              "\n",
              "  .colab-df-quickchart-complete:disabled,\n",
              "  .colab-df-quickchart-complete:disabled:hover {\n",
              "    background-color: var(--disabled-bg-color);\n",
              "    fill: var(--disabled-fill-color);\n",
              "    box-shadow: none;\n",
              "  }\n",
              "\n",
              "  .colab-df-spinner {\n",
              "    border: 2px solid var(--fill-color);\n",
              "    border-color: transparent;\n",
              "    border-bottom-color: var(--fill-color);\n",
              "    animation:\n",
              "      spin 1s steps(1) infinite;\n",
              "  }\n",
              "\n",
              "  @keyframes spin {\n",
              "    0% {\n",
              "      border-color: transparent;\n",
              "      border-bottom-color: var(--fill-color);\n",
              "      border-left-color: var(--fill-color);\n",
              "    }\n",
              "    20% {\n",
              "      border-color: transparent;\n",
              "      border-left-color: var(--fill-color);\n",
              "      border-top-color: var(--fill-color);\n",
              "    }\n",
              "    30% {\n",
              "      border-color: transparent;\n",
              "      border-left-color: var(--fill-color);\n",
              "      border-top-color: var(--fill-color);\n",
              "      border-right-color: var(--fill-color);\n",
              "    }\n",
              "    40% {\n",
              "      border-color: transparent;\n",
              "      border-right-color: var(--fill-color);\n",
              "      border-top-color: var(--fill-color);\n",
              "    }\n",
              "    60% {\n",
              "      border-color: transparent;\n",
              "      border-right-color: var(--fill-color);\n",
              "    }\n",
              "    80% {\n",
              "      border-color: transparent;\n",
              "      border-right-color: var(--fill-color);\n",
              "      border-bottom-color: var(--fill-color);\n",
              "    }\n",
              "    90% {\n",
              "      border-color: transparent;\n",
              "      border-bottom-color: var(--fill-color);\n",
              "    }\n",
              "  }\n",
              "</style>\n",
              "\n",
              "      <script>\n",
              "        async function quickchart(key) {\n",
              "          const quickchartButtonEl =\n",
              "            document.querySelector('#' + key + ' button');\n",
              "          quickchartButtonEl.disabled = true;  // To prevent multiple clicks.\n",
              "          quickchartButtonEl.classList.add('colab-df-spinner');\n",
              "          try {\n",
              "            const charts = await google.colab.kernel.invokeFunction(\n",
              "                'suggestCharts', [key], {});\n",
              "          } catch (error) {\n",
              "            console.error('Error during call to suggestCharts:', error);\n",
              "          }\n",
              "          quickchartButtonEl.classList.remove('colab-df-spinner');\n",
              "          quickchartButtonEl.classList.add('colab-df-quickchart-complete');\n",
              "        }\n",
              "        (() => {\n",
              "          let quickchartButtonEl =\n",
              "            document.querySelector('#df-df146383-a4ad-4684-b064-64b49618c458 button');\n",
              "          quickchartButtonEl.style.display =\n",
              "            google.colab.kernel.accessAllowed ? 'block' : 'none';\n",
              "        })();\n",
              "      </script>\n",
              "    </div>\n",
              "\n",
              "    </div>\n",
              "  </div>\n"
            ],
            "application/vnd.google.colaboratory.intrinsic+json": {
              "type": "dataframe",
              "summary": "{\n  \"name\": \"display(df\",\n  \"rows\": 5,\n  \"fields\": [\n    {\n      \"column\": \"App\",\n      \"properties\": {\n        \"dtype\": \"string\",\n        \"num_unique_values\": 5,\n        \"samples\": [\n          \"Coloring book moana\",\n          \"Pixel Draw - Number Art Coloring Book\",\n          \"U Launcher Lite \\u2013 FREE Live Cool Themes, Hide Apps\"\n        ],\n        \"semantic_type\": \"\",\n        \"description\": \"\"\n      }\n    },\n    {\n      \"column\": \"Category\",\n      \"properties\": {\n        \"dtype\": \"category\",\n        \"num_unique_values\": 1,\n        \"samples\": [\n          \"ART_AND_DESIGN\"\n        ],\n        \"semantic_type\": \"\",\n        \"description\": \"\"\n      }\n    },\n    {\n      \"column\": \"Rating\",\n      \"properties\": {\n        \"dtype\": \"number\",\n        \"std\": 0.31622776601683805,\n        \"min\": 3.9,\n        \"max\": 4.7,\n        \"num_unique_values\": 5,\n        \"samples\": [\n          3.9\n        ],\n        \"semantic_type\": \"\",\n        \"description\": \"\"\n      }\n    },\n    {\n      \"column\": \"Reviews\",\n      \"properties\": {\n        \"dtype\": \"string\",\n        \"num_unique_values\": 4,\n        \"samples\": [\n          \"967\"\n        ],\n        \"semantic_type\": \"\",\n        \"description\": \"\"\n      }\n    },\n    {\n      \"column\": \"Size\",\n      \"properties\": {\n        \"dtype\": \"string\",\n        \"num_unique_values\": 5,\n        \"samples\": [\n          \"14M\"\n        ],\n        \"semantic_type\": \"\",\n        \"description\": \"\"\n      }\n    },\n    {\n      \"column\": \"Installs\",\n      \"properties\": {\n        \"dtype\": \"string\",\n        \"num_unique_values\": 5,\n        \"samples\": [\n          \"500,000+\"\n        ],\n        \"semantic_type\": \"\",\n        \"description\": \"\"\n      }\n    },\n    {\n      \"column\": \"Type\",\n      \"properties\": {\n        \"dtype\": \"category\",\n        \"num_unique_values\": 1,\n        \"samples\": [\n          \"Free\"\n        ],\n        \"semantic_type\": \"\",\n        \"description\": \"\"\n      }\n    },\n    {\n      \"column\": \"Price\",\n      \"properties\": {\n        \"dtype\": \"category\",\n        \"num_unique_values\": 1,\n        \"samples\": [\n          \"0\"\n        ],\n        \"semantic_type\": \"\",\n        \"description\": \"\"\n      }\n    },\n    {\n      \"column\": \"Content Rating\",\n      \"properties\": {\n        \"dtype\": \"category\",\n        \"num_unique_values\": 2,\n        \"samples\": [\n          \"Teen\"\n        ],\n        \"semantic_type\": \"\",\n        \"description\": \"\"\n      }\n    },\n    {\n      \"column\": \"Genres\",\n      \"properties\": {\n        \"dtype\": \"string\",\n        \"num_unique_values\": 3,\n        \"samples\": [\n          \"Art & Design\"\n        ],\n        \"semantic_type\": \"\",\n        \"description\": \"\"\n      }\n    },\n    {\n      \"column\": \"Last Updated\",\n      \"properties\": {\n        \"dtype\": \"object\",\n        \"num_unique_values\": 5,\n        \"samples\": [\n          \"January 15, 2018\"\n        ],\n        \"semantic_type\": \"\",\n        \"description\": \"\"\n      }\n    },\n    {\n      \"column\": \"Current Ver\",\n      \"properties\": {\n        \"dtype\": \"string\",\n        \"num_unique_values\": 5,\n        \"samples\": [\n          \"2.0.0\"\n        ],\n        \"semantic_type\": \"\",\n        \"description\": \"\"\n      }\n    },\n    {\n      \"column\": \"Android Ver\",\n      \"properties\": {\n        \"dtype\": \"string\",\n        \"num_unique_values\": 3,\n        \"samples\": [\n          \"4.0.3 and up\"\n        ],\n        \"semantic_type\": \"\",\n        \"description\": \"\"\n      }\n    }\n  ]\n}"
            }
          },
          "metadata": {}
        }
      ]
    },
    {
      "cell_type": "markdown",
      "source": [
        "\n",
        "Clean the data:-\n",
        "\n",
        "Subtask:\n",
        "Handle missing values and convert the 'Rating' column to a numeric type.\n",
        "\n",
        "Reasoning: Handle missing values in the 'Rating' column and convert it to a numeric type as instructed."
      ],
      "metadata": {
        "id": "bvVMs4LpyaKP"
      }
    },
    {
      "cell_type": "code",
      "source": [
        "\n",
        "df.dropna(subset=['Rating'], inplace=True)\n",
        "df['Rating'] = pd.to_numeric(df['Rating'], errors='coerce')"
      ],
      "metadata": {
        "id": "8Nz1ZK3hyJLh"
      },
      "execution_count": null,
      "outputs": []
    },
    {
      "cell_type": "markdown",
      "source": [
        "Analyze category ratings:-\n",
        "\n",
        "Subtask:\n",
        "Group the data by 'Category' and calculate the mean 'Rating' for each category.\n",
        "\n",
        "Reasoning: Group the DataFrame by 'Category' and calculate the mean of the 'Rating' column for each category to find the average rating per category."
      ],
      "metadata": {
        "id": "0PfAK9Jky5ph"
      }
    },
    {
      "cell_type": "code",
      "source": [
        "average_category_ratings = df.groupby('Category')['Rating'].mean()\n",
        "display(average_category_ratings)"
      ],
      "metadata": {
        "colab": {
          "base_uri": "https://localhost:8080/",
          "height": 1000
        },
        "id": "A033d9kWysKe",
        "outputId": "737c467f-d96a-4582-b00f-bff190af8c95"
      },
      "execution_count": null,
      "outputs": [
        {
          "output_type": "display_data",
          "data": {
            "text/plain": [
              "Category\n",
              "1.9                    19.000000\n",
              "ART_AND_DESIGN          4.358065\n",
              "AUTO_AND_VEHICLES       4.190411\n",
              "BEAUTY                  4.278571\n",
              "BOOKS_AND_REFERENCE     4.346067\n",
              "BUSINESS                4.121452\n",
              "COMICS                  4.155172\n",
              "COMMUNICATION           4.158537\n",
              "DATING                  3.970769\n",
              "EDUCATION               4.389032\n",
              "ENTERTAINMENT           4.126174\n",
              "EVENTS                  4.435556\n",
              "FAMILY                  4.192272\n",
              "FINANCE                 4.131889\n",
              "FOOD_AND_DRINK          4.166972\n",
              "GAME                    4.286326\n",
              "HEALTH_AND_FITNESS      4.277104\n",
              "HOUSE_AND_HOME          4.197368\n",
              "LIBRARIES_AND_DEMO      4.178462\n",
              "LIFESTYLE               4.094904\n",
              "MAPS_AND_NAVIGATION     4.051613\n",
              "MEDICAL                 4.189143\n",
              "NEWS_AND_MAGAZINES      4.132189\n",
              "PARENTING               4.300000\n",
              "PERSONALIZATION         4.335987\n",
              "PHOTOGRAPHY             4.192114\n",
              "PRODUCTIVITY            4.211396\n",
              "SHOPPING                4.259664\n",
              "SOCIAL                  4.255598\n",
              "SPORTS                  4.223511\n",
              "TOOLS                   4.047411\n",
              "TRAVEL_AND_LOCAL        4.109292\n",
              "VIDEO_PLAYERS           4.063750\n",
              "WEATHER                 4.244000\n",
              "Name: Rating, dtype: float64"
            ],
            "text/html": [
              "<div>\n",
              "<style scoped>\n",
              "    .dataframe tbody tr th:only-of-type {\n",
              "        vertical-align: middle;\n",
              "    }\n",
              "\n",
              "    .dataframe tbody tr th {\n",
              "        vertical-align: top;\n",
              "    }\n",
              "\n",
              "    .dataframe thead th {\n",
              "        text-align: right;\n",
              "    }\n",
              "</style>\n",
              "<table border=\"1\" class=\"dataframe\">\n",
              "  <thead>\n",
              "    <tr style=\"text-align: right;\">\n",
              "      <th></th>\n",
              "      <th>Rating</th>\n",
              "    </tr>\n",
              "    <tr>\n",
              "      <th>Category</th>\n",
              "      <th></th>\n",
              "    </tr>\n",
              "  </thead>\n",
              "  <tbody>\n",
              "    <tr>\n",
              "      <th>1.9</th>\n",
              "      <td>19.000000</td>\n",
              "    </tr>\n",
              "    <tr>\n",
              "      <th>ART_AND_DESIGN</th>\n",
              "      <td>4.358065</td>\n",
              "    </tr>\n",
              "    <tr>\n",
              "      <th>AUTO_AND_VEHICLES</th>\n",
              "      <td>4.190411</td>\n",
              "    </tr>\n",
              "    <tr>\n",
              "      <th>BEAUTY</th>\n",
              "      <td>4.278571</td>\n",
              "    </tr>\n",
              "    <tr>\n",
              "      <th>BOOKS_AND_REFERENCE</th>\n",
              "      <td>4.346067</td>\n",
              "    </tr>\n",
              "    <tr>\n",
              "      <th>BUSINESS</th>\n",
              "      <td>4.121452</td>\n",
              "    </tr>\n",
              "    <tr>\n",
              "      <th>COMICS</th>\n",
              "      <td>4.155172</td>\n",
              "    </tr>\n",
              "    <tr>\n",
              "      <th>COMMUNICATION</th>\n",
              "      <td>4.158537</td>\n",
              "    </tr>\n",
              "    <tr>\n",
              "      <th>DATING</th>\n",
              "      <td>3.970769</td>\n",
              "    </tr>\n",
              "    <tr>\n",
              "      <th>EDUCATION</th>\n",
              "      <td>4.389032</td>\n",
              "    </tr>\n",
              "    <tr>\n",
              "      <th>ENTERTAINMENT</th>\n",
              "      <td>4.126174</td>\n",
              "    </tr>\n",
              "    <tr>\n",
              "      <th>EVENTS</th>\n",
              "      <td>4.435556</td>\n",
              "    </tr>\n",
              "    <tr>\n",
              "      <th>FAMILY</th>\n",
              "      <td>4.192272</td>\n",
              "    </tr>\n",
              "    <tr>\n",
              "      <th>FINANCE</th>\n",
              "      <td>4.131889</td>\n",
              "    </tr>\n",
              "    <tr>\n",
              "      <th>FOOD_AND_DRINK</th>\n",
              "      <td>4.166972</td>\n",
              "    </tr>\n",
              "    <tr>\n",
              "      <th>GAME</th>\n",
              "      <td>4.286326</td>\n",
              "    </tr>\n",
              "    <tr>\n",
              "      <th>HEALTH_AND_FITNESS</th>\n",
              "      <td>4.277104</td>\n",
              "    </tr>\n",
              "    <tr>\n",
              "      <th>HOUSE_AND_HOME</th>\n",
              "      <td>4.197368</td>\n",
              "    </tr>\n",
              "    <tr>\n",
              "      <th>LIBRARIES_AND_DEMO</th>\n",
              "      <td>4.178462</td>\n",
              "    </tr>\n",
              "    <tr>\n",
              "      <th>LIFESTYLE</th>\n",
              "      <td>4.094904</td>\n",
              "    </tr>\n",
              "    <tr>\n",
              "      <th>MAPS_AND_NAVIGATION</th>\n",
              "      <td>4.051613</td>\n",
              "    </tr>\n",
              "    <tr>\n",
              "      <th>MEDICAL</th>\n",
              "      <td>4.189143</td>\n",
              "    </tr>\n",
              "    <tr>\n",
              "      <th>NEWS_AND_MAGAZINES</th>\n",
              "      <td>4.132189</td>\n",
              "    </tr>\n",
              "    <tr>\n",
              "      <th>PARENTING</th>\n",
              "      <td>4.300000</td>\n",
              "    </tr>\n",
              "    <tr>\n",
              "      <th>PERSONALIZATION</th>\n",
              "      <td>4.335987</td>\n",
              "    </tr>\n",
              "    <tr>\n",
              "      <th>PHOTOGRAPHY</th>\n",
              "      <td>4.192114</td>\n",
              "    </tr>\n",
              "    <tr>\n",
              "      <th>PRODUCTIVITY</th>\n",
              "      <td>4.211396</td>\n",
              "    </tr>\n",
              "    <tr>\n",
              "      <th>SHOPPING</th>\n",
              "      <td>4.259664</td>\n",
              "    </tr>\n",
              "    <tr>\n",
              "      <th>SOCIAL</th>\n",
              "      <td>4.255598</td>\n",
              "    </tr>\n",
              "    <tr>\n",
              "      <th>SPORTS</th>\n",
              "      <td>4.223511</td>\n",
              "    </tr>\n",
              "    <tr>\n",
              "      <th>TOOLS</th>\n",
              "      <td>4.047411</td>\n",
              "    </tr>\n",
              "    <tr>\n",
              "      <th>TRAVEL_AND_LOCAL</th>\n",
              "      <td>4.109292</td>\n",
              "    </tr>\n",
              "    <tr>\n",
              "      <th>VIDEO_PLAYERS</th>\n",
              "      <td>4.063750</td>\n",
              "    </tr>\n",
              "    <tr>\n",
              "      <th>WEATHER</th>\n",
              "      <td>4.244000</td>\n",
              "    </tr>\n",
              "  </tbody>\n",
              "</table>\n",
              "</div><br><label><b>dtype:</b> float64</label>"
            ]
          },
          "metadata": {}
        }
      ]
    },
    {
      "cell_type": "markdown",
      "source": [
        "Identify highest/lowest rated categories:-\n",
        "\n",
        "Subtask:\n",
        "Determine the categories with the highest and lowest average ratings from the average_category_ratings Series.\n",
        "\n",
        "Reasoning: Determine the categories with the highest and lowest average ratings from the average_category_ratings Series and store them in variables"
      ],
      "metadata": {
        "id": "Tf0zsIVbzMJt"
      }
    },
    {
      "cell_type": "code",
      "source": [
        "highest_rated_category = average_category_ratings.idxmax()\n",
        "highest_average_rating = average_category_ratings.max()\n",
        "lowest_rated_category = average_category_ratings.idxmin()\n",
        "lowest_average_rating = average_category_ratings.min()\n",
        "\n",
        "print(f\"Highest Rated Category: {highest_rated_category} (Average Rating: {highest_average_rating:.2f})\")\n",
        "print(f\"Lowest Rated Category: {lowest_rated_category} (Average Rating: {lowest_average_rating:.2f})\")"
      ],
      "metadata": {
        "colab": {
          "base_uri": "https://localhost:8080/"
        },
        "id": "M6X97M6DzEv3",
        "outputId": "5115d55e-a7ff-4e97-a1c9-478d5b6bed3e"
      },
      "execution_count": null,
      "outputs": [
        {
          "output_type": "stream",
          "name": "stdout",
          "text": [
            "Highest Rated Category: 1.9 (Average Rating: 19.00)\n",
            "Lowest Rated Category: DATING (Average Rating: 3.97)\n"
          ]
        }
      ]
    },
    {
      "cell_type": "markdown",
      "source": [
        "Present the findings:-\n",
        "\n",
        "Subtask:\n",
        "Display the highest and lowest rated categories and discuss possible reasons.\n",
        "\n",
        "Reasoning: Display the highest and lowest rated categories and discuss possible reasons, acknowledging the data anomaly"
      ],
      "metadata": {
        "id": "wPVd9xsMziG4"
      }
    },
    {
      "cell_type": "code",
      "source": [
        "print(f\"The category with the highest average rating is '{highest_rated_category}' with an average rating of {highest_average_rating:.2f}. Note: The category '1.9' appears to be a data anomaly.\")\n",
        "print(f\"The category with the lowest average rating is '{lowest_rated_category}' with an average rating of {lowest_average_rating:.2f}.\")\n"
      ],
      "metadata": {
        "colab": {
          "base_uri": "https://localhost:8080/"
        },
        "id": "LyZSWWuizjO-",
        "outputId": "d635f831-228e-473b-a07f-7da234f9caa1"
      },
      "execution_count": null,
      "outputs": [
        {
          "output_type": "stream",
          "name": "stdout",
          "text": [
            "The category with the highest average rating is '1.9' with an average rating of 19.00. Note: The category '1.9' appears to be a data anomaly.\n",
            "The category with the lowest average rating is 'DATING' with an average rating of 3.97.\n"
          ]
        }
      ]
    },
    {
      "cell_type": "markdown",
      "source": [
        "\n",
        "Reasoning: Write a markdown cell discussing possible reasons for the highest and lowest average ratings, considering the nature of the categories and user expectations, acknowledging the data anomaly in the highest-rated category and focusing the discussion on the lowest-rated category."
      ],
      "metadata": {
        "id": "jOxo4kW60iqe"
      }
    },
    {
      "cell_type": "code",
      "source": [
        "\n",
        "# This is a placeholder code block to allow adding a markdown cell.\n",
        "# The actual discussion will be in the following markdown cell"
      ],
      "metadata": {
        "id": "l52-aqz8zrTj"
      },
      "execution_count": null,
      "outputs": []
    },
    {
      "cell_type": "markdown",
      "source": [
        "\n",
        "Reasoning: Discuss the potential reasons for the observed highest and lowest average ratings, focusing on the lowest-rated category ('DATING') and acknowledging the anomaly in the highest-rated category ('1.9')"
      ],
      "metadata": {
        "id": "DJDhrfSY1Gr1"
      }
    },
    {
      "cell_type": "code",
      "source": [
        "# This is a placeholder code block to allow adding a markdown cell for discussion.\n"
      ],
      "metadata": {
        "id": "O3qIGHSr1SpP"
      },
      "execution_count": null,
      "outputs": []
    },
    {
      "cell_type": "markdown",
      "source": [
        "\n",
        "Reasoning: Discuss possible reasons for the highest and lowest average ratings, considering the nature of the categories and user expectations. Acknowledge the data anomaly in the highest-rated category and focus the discussion on the lowest-rated category and potentially the second-highest among the valid categories if insightful."
      ],
      "metadata": {
        "id": "15hZ2mpr1eIb"
      }
    },
    {
      "cell_type": "code",
      "source": [
        "# This is a placeholder code block to allow adding a markdown cell"
      ],
      "metadata": {
        "id": "mf1INoXx1whK"
      },
      "execution_count": null,
      "outputs": []
    },
    {
      "cell_type": "markdown",
      "source": [
        "Present the findings:-\n",
        "\n",
        "Subtask: Display the highest and lowest rated categories and discuss possible reasons.\n",
        "\n",
        "Reasoning: Print the statements identifying the highest and lowest rated categories, making sure to note the data anomaly."
      ],
      "metadata": {
        "id": "P1B1g-je2UNe"
      }
    },
    {
      "cell_type": "code",
      "source": [
        "print(f\"The category with the highest average rating is '{highest_rated_category}' with an average rating of {highest_average_rating:.2f}. Note: The category '1.9' appears to be a data anomaly.\")\n",
        "print(f\"The category with the lowest average rating is '{lowest_rated_category}' with an average rating of {lowest_average_rating:.2f}.\")"
      ],
      "metadata": {
        "colab": {
          "base_uri": "https://localhost:8080/"
        },
        "id": "iMQaWx2W2TXL",
        "outputId": "56dcd6a8-eb0d-4c8e-ee0e-29fd234373f2"
      },
      "execution_count": null,
      "outputs": [
        {
          "output_type": "stream",
          "name": "stdout",
          "text": [
            "The category with the highest average rating is '1.9' with an average rating of 19.00. Note: The category '1.9' appears to be a data anomaly.\n",
            "The category with the lowest average rating is 'DATING' with an average rating of 3.97.\n"
          ]
        }
      ]
    },
    {
      "cell_type": "markdown",
      "source": [
        "\n",
        "Reasoning: Discuss the possible reasons for the lowest rated category and the second highest rated category in a markdown cell."
      ],
      "metadata": {
        "id": "vzJz8aII2lKw"
      }
    },
    {
      "cell_type": "code",
      "source": [
        "\n",
        "\n",
        "# This is a placeholder code block to add a markdown cell.\n",
        "# The discussion will be in the following markdown cell.\n"
      ],
      "metadata": {
        "id": "P2iDHzDh2vRv"
      },
      "execution_count": null,
      "outputs": []
    },
    {
      "cell_type": "markdown",
      "source": [
        "Reasoning: Discuss possible reasons for the lowest rated category and identify and discuss the second highest rated category in a markdown cell as per the instructions."
      ],
      "metadata": {
        "id": "VDQu_hbS22gC"
      }
    },
    {
      "cell_type": "code",
      "source": [
        "\n",
        "second_highest_rated_category = average_category_ratings.drop(highest_rated_category).idxmax()\n",
        "second_highest_average_rating = average_category_ratings.drop(highest_rated_category).max()\n",
        "\n",
        "print(f\"The second highest rated category (excluding the '1.9' anomaly) is '{second_highest_rated_category}' with an average rating of {second_highest_average_rating:.2f}.\")\n"
      ],
      "metadata": {
        "colab": {
          "base_uri": "https://localhost:8080/"
        },
        "id": "CJdGcMLM26ia",
        "outputId": "f927eb7d-c136-47bc-bf03-d440b0937725"
      },
      "execution_count": null,
      "outputs": [
        {
          "output_type": "stream",
          "name": "stdout",
          "text": [
            "The second highest rated category (excluding the '1.9' anomaly) is 'EVENTS' with an average rating of 4.44.\n"
          ]
        }
      ]
    },
    {
      "cell_type": "markdown",
      "source": [
        "Reasoning: Add a markdown cell to discuss the possible reasons for the lowest rated category and the second highest rated category as requested in the instructions."
      ],
      "metadata": {
        "id": "4WJ4vM3r3Dns"
      }
    },
    {
      "cell_type": "code",
      "source": [
        "# This is a placeholder code block to add a markdown cell.\n",
        "# The discussion will be in the following markdown cell."
      ],
      "metadata": {
        "id": "EqGFoyGh3G9M"
      },
      "execution_count": null,
      "outputs": []
    },
    {
      "cell_type": "markdown",
      "source": [
        "Present the findings:-\n",
        "\n",
        "Subtask:\n",
        "Display the highest and lowest rated categories and discuss possible reasons.\n",
        "\n",
        "Reasoning: Add a markdown cell to discuss the reasons for the lowest and second highest average ratings, and mention the data anomaly."
      ],
      "metadata": {
        "id": "305eNzwc3UDI"
      }
    },
    {
      "cell_type": "code",
      "source": [
        "\n",
        "```markdown\n",
        "Possible Reasons for Observed Average Ratings:\n",
        "\n",
        "The **DATING** category shows the lowest average rating (3.97). This could be due to several factors inherent to the nature of dating apps:\n",
        "*   **User expectations vs. reality:** Users may have high expectations that are not met, leading to disappointment and lower ratings.\n",
        "*   **Negative experiences:** Online dating can involve frustrating or negative interactions, which can directly influence user reviews and ratings.\n",
        "*   **App performance issues:** Bugs, glitches, or poor user interface in dating apps can significantly impact user experience, especially when interactions are critical.\n",
        "*   **Subjectivity:** Satisfaction with a dating app is highly subjective and depends on finding compatible matches, which is not solely dependent on the app's functionality.\n",
        "\n",
        "The **EVENTS** category has the second highest average rating (4.44, excluding the data anomaly). Possible reasons for this high rating include:\n",
        "*   **Clear purpose and functionality:** Event apps typically have a clear and straightforward purpose – providing information about events, ticketing, or scheduling. This can lead to a more focused and positive user experience.\n",
        "*   **Utility-driven:** Users often download event apps for a specific need related to attending or finding events, and if the app effectively serves that purpose, they are likely to rate it highly.\n",
        "*   **Infrequent use:** Unlike daily-use apps, event apps might be used less frequently, perhaps around specific events. This could mean users interact with them when they are most relevant and functional, leading to better impressions.\n",
        "\n",
        "It's important to note the data anomaly observed with the '1.9' category having an average rating of 19.00. This is clearly an erroneous entry and was excluded from the discussion of valid highest rated categories.\n"
      ],
      "metadata": {
        "colab": {
          "base_uri": "https://localhost:8080/",
          "height": 146
        },
        "id": "8QUxgipK3X8l",
        "outputId": "7fc2a193-64b9-4881-a54f-8c44afecefc3"
      },
      "execution_count": null,
      "outputs": [
        {
          "output_type": "error",
          "ename": "SyntaxError",
          "evalue": "unterminated string literal (detected at line 8) (ipython-input-2374506331.py, line 8)",
          "traceback": [
            "\u001b[0;36m  File \u001b[0;32m\"/tmp/ipython-input-2374506331.py\"\u001b[0;36m, line \u001b[0;32m8\u001b[0m\n\u001b[0;31m    *   **Subjectivity:** Satisfaction with a dating app is highly subjective and depends on finding compatible matches, which is not solely dependent on the app's functionality.\u001b[0m\n\u001b[0m                                                                                                                                                                 ^\u001b[0m\n\u001b[0;31mSyntaxError\u001b[0m\u001b[0;31m:\u001b[0m unterminated string literal (detected at line 8)\n"
          ]
        }
      ]
    },
    {
      "cell_type": "markdown",
      "source": [
        "Reasoning: Correct the syntax error in the markdown cell by properly enclosing the markdown content within the triple backticks"
      ],
      "metadata": {
        "id": "2M50JFY533QM"
      }
    },
    {
      "cell_type": "code",
      "source": [
        "\n",
        "'''markdown\n",
        "Possible Reasons for Observed Average Ratings:\n",
        "\n",
        "The **DATING** category shows the lowest average rating (3.97). This could be due to several factors inherent to the nature of dating apps:\n",
        "*   **User expectations vs. reality:** Users may have high expectations that are not met, leading to disappointment and lower ratings.\n",
        "*   **Negative experiences:** Online dating can involve frustrating or negative interactions, which can directly influence user reviews and ratings.\n",
        "*   **App performance issues:** Bugs, glitches, or poor user interface in dating apps can significantly impact user experience, especially when interactions are critical.\n",
        "*   **Subjectivity:** Satisfaction with a dating app is highly subjective and depends on finding compatible matches, which is not solely dependent on the app's functionality.\n",
        "\n",
        "The **EVENTS** category has the second highest average rating (4.44, excluding the data anomaly). Possible reasons for this high rating include:\n",
        "*   **Clear purpose and functionality:** Event apps typically have a clear and straightforward purpose – providing information about events, ticketing, or scheduling. This can lead to a more focused and positive user experience.\n",
        "*   **Utility-driven:** Users often download event apps for a specific need related to attending or finding events, and if the app effectively serves that purpose, they are likely to rate it highly.\n",
        "*   **Infrequent use:** Unlike daily-use apps, event apps might be used less frequently, perhaps around specific events. This could mean users interact with them when they are most relevant and functional, leading to better impressions.\n",
        "\n",
        "It's important to note the data anomaly observed with the '1.9' category having an average rating of 19.00. This is clearly an erroneous entry and was excluded from the discussion of valid highest rated categories.\n",
        "'''"
      ],
      "metadata": {
        "colab": {
          "base_uri": "https://localhost:8080/",
          "height": 200
        },
        "id": "LF3LmAJy308b",
        "outputId": "4f66d635-0c67-426e-c12b-e79d74b18515"
      },
      "execution_count": null,
      "outputs": [
        {
          "output_type": "execute_result",
          "data": {
            "text/plain": [
              "\"markdown\\nPossible Reasons for Observed Average Ratings:\\n\\nThe **DATING** category shows the lowest average rating (3.97). This could be due to several factors inherent to the nature of dating apps:\\n*   **User expectations vs. reality:** Users may have high expectations that are not met, leading to disappointment and lower ratings.\\n*   **Negative experiences:** Online dating can involve frustrating or negative interactions, which can directly influence user reviews and ratings.\\n*   **App performance issues:** Bugs, glitches, or poor user interface in dating apps can significantly impact user experience, especially when interactions are critical.\\n*   **Subjectivity:** Satisfaction with a dating app is highly subjective and depends on finding compatible matches, which is not solely dependent on the app's functionality.\\n\\nThe **EVENTS** category has the second highest average rating (4.44, excluding the data anomaly). Possible reasons for this high rating include:\\n*   **Clear purpose and functionality:** Event apps typically have a clear and straightforward purpose – providing information about events, ticketing, or scheduling. This can lead to a more focused and positive user experience.\\n*   **Utility-driven:** Users often download event apps for a specific need related to attending or finding events, and if the app effectively serves that purpose, they are likely to rate it highly.\\n*   **Infrequent use:** Unlike daily-use apps, event apps might be used less frequently, perhaps around specific events. This could mean users interact with them when they are most relevant and functional, leading to better impressions.\\n\\nIt's important to note the data anomaly observed with the '1.9' category having an average rating of 19.00. This is clearly an erroneous entry and was excluded from the discussion of valid highest rated categories.\\n\""
            ],
            "application/vnd.google.colaboratory.intrinsic+json": {
              "type": "string"
            }
          },
          "metadata": {},
          "execution_count": 19
        }
      ]
    },
    {
      "cell_type": "markdown",
      "source": [
        "Reasoning: The previous attempt to create a markdown cell resulted in the markdown content being printed as a string. The goal is to create a markdown cell for discussion. Since the previous method didn't work as intended, I will try simply putting the markdown content directly into a code block without any python string delimiters, which should be interpreted as a markdown cell in this environment."
      ],
      "metadata": {
        "id": "YlVgMgUq4uSe"
      }
    },
    {
      "cell_type": "code",
      "source": [
        "Possible Reasons for Observed Average Ratings:\n",
        "\n",
        "The **DATING** category shows the lowest average rating (3.97). This could be due to several factors inherent to the nature of dating apps:\n",
        "*   **User expectations vs. reality:** Users may have high expectations that are not met, leading to disappointment and lower ratings.\n",
        "*   **Negative experiences:** Online dating can involve frustrating or negative interactions, which can directly influence user reviews and ratings.\n",
        "*   **App performance issues:** Bugs, glitches, or poor user interface in dating apps can significantly impact user experience, especially when interactions are critical.\n",
        "*   **Subjectivity:** Satisfaction with a dating app is highly subjective and depends on finding compatible matches, which is not solely dependent on the app's functionality.\n",
        "\n",
        "The **EVENTS** category has the second highest average rating (4.44, excluding the data anomaly). Possible reasons for this high rating include:\n",
        "*   **Clear purpose and functionality:** Event apps typically have a clear and straightforward purpose – providing information about events, ticketing, or scheduling. This can lead to a more focused and positive user experience.\n",
        "*   **Utility-driven:** Users often download event apps for a specific need related to attending or finding events, and if the app effectively serves that purpose, they are likely to rate it highly.\n",
        "*   **Infrequent use:** Unlike daily-use apps, event apps might be used less frequently, perhaps around specific events. This could mean users interact with them when they are most relevant and functional, leading to better impressions.\n",
        "\n",
        "It's important to note the data anomaly observed with the '1.9' category having an average rating of 19.00. This is clearly an erroneous entry and was excluded from the discussion of valid highest rated categories.\n"
      ],
      "metadata": {
        "colab": {
          "base_uri": "https://localhost:8080/",
          "height": 146
        },
        "id": "m-cu9F5g4ycm",
        "outputId": "ec7e7415-dab2-40c9-ffd0-6950a519c007"
      },
      "execution_count": null,
      "outputs": [
        {
          "output_type": "error",
          "ename": "SyntaxError",
          "evalue": "unterminated string literal (detected at line 7) (ipython-input-3609300251.py, line 7)",
          "traceback": [
            "\u001b[0;36m  File \u001b[0;32m\"/tmp/ipython-input-3609300251.py\"\u001b[0;36m, line \u001b[0;32m7\u001b[0m\n\u001b[0;31m    *   **Subjectivity:** Satisfaction with a dating app is highly subjective and depends on finding compatible matches, which is not solely dependent on the app's functionality.\u001b[0m\n\u001b[0m                                                                                                                                                                 ^\u001b[0m\n\u001b[0;31mSyntaxError\u001b[0m\u001b[0;31m:\u001b[0m unterminated string literal (detected at line 7)\n"
          ]
        }
      ]
    },
    {
      "cell_type": "markdown",
      "source": [
        "Summary:-\n",
        "\n",
        "- Data Analysis Key Findings:\n",
        "\n",
        "   - The category with the lowest average rating is 'DATING' with an average rating of 3.97.\n",
        "   - Excluding an identified data anomaly category ('1.9' with an average rating of 19.00), the second highest rated category is 'EVENTS' with an average rating of 4.44.\n",
        "\n",
        "- Insights or Next Steps\n",
        "\n",
        "  - Investigate the data anomaly in the '1.9' category to understand its origin and impact on the overall analysis.\n",
        "  - Conduct further analysis into user reviews and feedback within the 'DATING' category to gain deeper insights into the specific issues contributing to lower ratings."
      ],
      "metadata": {
        "id": "lZsn5RWd45gL"
      }
    },
    {
      "cell_type": "code",
      "source": [
        "#8 Titanic dataset\n",
        "# a) Copmare the survival rates based on passenger class(plass). Which class had the highest survival rate, and why do you think that happened?\n",
        "# b) Analyze how age (Age) affected survival. Group passenger into children (Age < 18) and adults (Age ≥ 18 ). Did children have a better chance of survival?\n",
        "\n",
        "\n"
      ],
      "metadata": {
        "id": "EkTYDxwbnDzg"
      },
      "execution_count": null,
      "outputs": []
    },
    {
      "cell_type": "markdown",
      "source": [
        "Load the dataset:-\n",
        "\n",
        "Subtask:\n",
        "Load the titanic (1).csv file into a pandas DataFrame.\n",
        "\n",
        "Reasoning: Load the titanic dataset into a pandas DataFrame and display the head and info to inspect the data and prepare for analysis."
      ],
      "metadata": {
        "id": "CcpICJnwpzvi"
      }
    },
    {
      "cell_type": "code",
      "source": [
        "from google.colab import files\n",
        "\n",
        "print(\"Please select the Travel.csv  file to upload.\")\n",
        "uploaded = files.upload()"
      ],
      "metadata": {
        "colab": {
          "base_uri": "https://localhost:8080/",
          "height": 91
        },
        "id": "vc-7pdxSpfmk",
        "outputId": "d28cf954-d079-46f4-cf38-eaa33345a4ba"
      },
      "execution_count": null,
      "outputs": [
        {
          "output_type": "stream",
          "name": "stdout",
          "text": [
            "Please select the Travel.csv  file to upload.\n"
          ]
        },
        {
          "output_type": "display_data",
          "data": {
            "text/plain": [
              "<IPython.core.display.HTML object>"
            ],
            "text/html": [
              "\n",
              "     <input type=\"file\" id=\"files-220567a6-8a66-4628-91d2-3a063e2f3a01\" name=\"files[]\" multiple disabled\n",
              "        style=\"border:none\" />\n",
              "     <output id=\"result-220567a6-8a66-4628-91d2-3a063e2f3a01\">\n",
              "      Upload widget is only available when the cell has been executed in the\n",
              "      current browser session. Please rerun this cell to enable.\n",
              "      </output>\n",
              "      <script>// Copyright 2017 Google LLC\n",
              "//\n",
              "// Licensed under the Apache License, Version 2.0 (the \"License\");\n",
              "// you may not use this file except in compliance with the License.\n",
              "// You may obtain a copy of the License at\n",
              "//\n",
              "//      http://www.apache.org/licenses/LICENSE-2.0\n",
              "//\n",
              "// Unless required by applicable law or agreed to in writing, software\n",
              "// distributed under the License is distributed on an \"AS IS\" BASIS,\n",
              "// WITHOUT WARRANTIES OR CONDITIONS OF ANY KIND, either express or implied.\n",
              "// See the License for the specific language governing permissions and\n",
              "// limitations under the License.\n",
              "\n",
              "/**\n",
              " * @fileoverview Helpers for google.colab Python module.\n",
              " */\n",
              "(function(scope) {\n",
              "function span(text, styleAttributes = {}) {\n",
              "  const element = document.createElement('span');\n",
              "  element.textContent = text;\n",
              "  for (const key of Object.keys(styleAttributes)) {\n",
              "    element.style[key] = styleAttributes[key];\n",
              "  }\n",
              "  return element;\n",
              "}\n",
              "\n",
              "// Max number of bytes which will be uploaded at a time.\n",
              "const MAX_PAYLOAD_SIZE = 100 * 1024;\n",
              "\n",
              "function _uploadFiles(inputId, outputId) {\n",
              "  const steps = uploadFilesStep(inputId, outputId);\n",
              "  const outputElement = document.getElementById(outputId);\n",
              "  // Cache steps on the outputElement to make it available for the next call\n",
              "  // to uploadFilesContinue from Python.\n",
              "  outputElement.steps = steps;\n",
              "\n",
              "  return _uploadFilesContinue(outputId);\n",
              "}\n",
              "\n",
              "// This is roughly an async generator (not supported in the browser yet),\n",
              "// where there are multiple asynchronous steps and the Python side is going\n",
              "// to poll for completion of each step.\n",
              "// This uses a Promise to block the python side on completion of each step,\n",
              "// then passes the result of the previous step as the input to the next step.\n",
              "function _uploadFilesContinue(outputId) {\n",
              "  const outputElement = document.getElementById(outputId);\n",
              "  const steps = outputElement.steps;\n",
              "\n",
              "  const next = steps.next(outputElement.lastPromiseValue);\n",
              "  return Promise.resolve(next.value.promise).then((value) => {\n",
              "    // Cache the last promise value to make it available to the next\n",
              "    // step of the generator.\n",
              "    outputElement.lastPromiseValue = value;\n",
              "    return next.value.response;\n",
              "  });\n",
              "}\n",
              "\n",
              "/**\n",
              " * Generator function which is called between each async step of the upload\n",
              " * process.\n",
              " * @param {string} inputId Element ID of the input file picker element.\n",
              " * @param {string} outputId Element ID of the output display.\n",
              " * @return {!Iterable<!Object>} Iterable of next steps.\n",
              " */\n",
              "function* uploadFilesStep(inputId, outputId) {\n",
              "  const inputElement = document.getElementById(inputId);\n",
              "  inputElement.disabled = false;\n",
              "\n",
              "  const outputElement = document.getElementById(outputId);\n",
              "  outputElement.innerHTML = '';\n",
              "\n",
              "  const pickedPromise = new Promise((resolve) => {\n",
              "    inputElement.addEventListener('change', (e) => {\n",
              "      resolve(e.target.files);\n",
              "    });\n",
              "  });\n",
              "\n",
              "  const cancel = document.createElement('button');\n",
              "  inputElement.parentElement.appendChild(cancel);\n",
              "  cancel.textContent = 'Cancel upload';\n",
              "  const cancelPromise = new Promise((resolve) => {\n",
              "    cancel.onclick = () => {\n",
              "      resolve(null);\n",
              "    };\n",
              "  });\n",
              "\n",
              "  // Wait for the user to pick the files.\n",
              "  const files = yield {\n",
              "    promise: Promise.race([pickedPromise, cancelPromise]),\n",
              "    response: {\n",
              "      action: 'starting',\n",
              "    }\n",
              "  };\n",
              "\n",
              "  cancel.remove();\n",
              "\n",
              "  // Disable the input element since further picks are not allowed.\n",
              "  inputElement.disabled = true;\n",
              "\n",
              "  if (!files) {\n",
              "    return {\n",
              "      response: {\n",
              "        action: 'complete',\n",
              "      }\n",
              "    };\n",
              "  }\n",
              "\n",
              "  for (const file of files) {\n",
              "    const li = document.createElement('li');\n",
              "    li.append(span(file.name, {fontWeight: 'bold'}));\n",
              "    li.append(span(\n",
              "        `(${file.type || 'n/a'}) - ${file.size} bytes, ` +\n",
              "        `last modified: ${\n",
              "            file.lastModifiedDate ? file.lastModifiedDate.toLocaleDateString() :\n",
              "                                    'n/a'} - `));\n",
              "    const percent = span('0% done');\n",
              "    li.appendChild(percent);\n",
              "\n",
              "    outputElement.appendChild(li);\n",
              "\n",
              "    const fileDataPromise = new Promise((resolve) => {\n",
              "      const reader = new FileReader();\n",
              "      reader.onload = (e) => {\n",
              "        resolve(e.target.result);\n",
              "      };\n",
              "      reader.readAsArrayBuffer(file);\n",
              "    });\n",
              "    // Wait for the data to be ready.\n",
              "    let fileData = yield {\n",
              "      promise: fileDataPromise,\n",
              "      response: {\n",
              "        action: 'continue',\n",
              "      }\n",
              "    };\n",
              "\n",
              "    // Use a chunked sending to avoid message size limits. See b/62115660.\n",
              "    let position = 0;\n",
              "    do {\n",
              "      const length = Math.min(fileData.byteLength - position, MAX_PAYLOAD_SIZE);\n",
              "      const chunk = new Uint8Array(fileData, position, length);\n",
              "      position += length;\n",
              "\n",
              "      const base64 = btoa(String.fromCharCode.apply(null, chunk));\n",
              "      yield {\n",
              "        response: {\n",
              "          action: 'append',\n",
              "          file: file.name,\n",
              "          data: base64,\n",
              "        },\n",
              "      };\n",
              "\n",
              "      let percentDone = fileData.byteLength === 0 ?\n",
              "          100 :\n",
              "          Math.round((position / fileData.byteLength) * 100);\n",
              "      percent.textContent = `${percentDone}% done`;\n",
              "\n",
              "    } while (position < fileData.byteLength);\n",
              "  }\n",
              "\n",
              "  // All done.\n",
              "  yield {\n",
              "    response: {\n",
              "      action: 'complete',\n",
              "    }\n",
              "  };\n",
              "}\n",
              "\n",
              "scope.google = scope.google || {};\n",
              "scope.google.colab = scope.google.colab || {};\n",
              "scope.google.colab._files = {\n",
              "  _uploadFiles,\n",
              "  _uploadFilesContinue,\n",
              "};\n",
              "})(self);\n",
              "</script> "
            ]
          },
          "metadata": {}
        },
        {
          "output_type": "stream",
          "name": "stdout",
          "text": [
            "Saving titanic.csv to titanic.csv\n"
          ]
        }
      ]
    },
    {
      "cell_type": "code",
      "source": [
        "import pandas as pd\n",
        "\n",
        "df_titanic = pd.read_csv('/content/titanic.csv')\n",
        "display(df_titanic.head())\n",
        "display(df_titanic.info())"
      ],
      "metadata": {
        "colab": {
          "base_uri": "https://localhost:8080/",
          "height": 868
        },
        "id": "EQWW9UVNq2vh",
        "outputId": "edaa444a-0c85-47a9-c5ec-b2fba8db3422"
      },
      "execution_count": null,
      "outputs": [
        {
          "output_type": "display_data",
          "data": {
            "text/plain": [
              "   PassengerId  Survived  Pclass  \\\n",
              "0            1         0       3   \n",
              "1            2         1       1   \n",
              "2            3         1       3   \n",
              "3            4         1       1   \n",
              "4            5         0       3   \n",
              "\n",
              "                                                Name     Sex   Age  SibSp  \\\n",
              "0                            Braund, Mr. Owen Harris    male  22.0      1   \n",
              "1  Cumings, Mrs. John Bradley (Florence Briggs Th...  female  38.0      1   \n",
              "2                             Heikkinen, Miss. Laina  female  26.0      0   \n",
              "3       Futrelle, Mrs. Jacques Heath (Lily May Peel)  female  35.0      1   \n",
              "4                           Allen, Mr. William Henry    male  35.0      0   \n",
              "\n",
              "   Parch            Ticket     Fare Cabin Embarked  \n",
              "0      0         A/5 21171   7.2500   NaN        S  \n",
              "1      0          PC 17599  71.2833   C85        C  \n",
              "2      0  STON/O2. 3101282   7.9250   NaN        S  \n",
              "3      0            113803  53.1000  C123        S  \n",
              "4      0            373450   8.0500   NaN        S  "
            ],
            "text/html": [
              "\n",
              "  <div id=\"df-1806ff27-e972-4557-8e8c-32532e9ecb1d\" class=\"colab-df-container\">\n",
              "    <div>\n",
              "<style scoped>\n",
              "    .dataframe tbody tr th:only-of-type {\n",
              "        vertical-align: middle;\n",
              "    }\n",
              "\n",
              "    .dataframe tbody tr th {\n",
              "        vertical-align: top;\n",
              "    }\n",
              "\n",
              "    .dataframe thead th {\n",
              "        text-align: right;\n",
              "    }\n",
              "</style>\n",
              "<table border=\"1\" class=\"dataframe\">\n",
              "  <thead>\n",
              "    <tr style=\"text-align: right;\">\n",
              "      <th></th>\n",
              "      <th>PassengerId</th>\n",
              "      <th>Survived</th>\n",
              "      <th>Pclass</th>\n",
              "      <th>Name</th>\n",
              "      <th>Sex</th>\n",
              "      <th>Age</th>\n",
              "      <th>SibSp</th>\n",
              "      <th>Parch</th>\n",
              "      <th>Ticket</th>\n",
              "      <th>Fare</th>\n",
              "      <th>Cabin</th>\n",
              "      <th>Embarked</th>\n",
              "    </tr>\n",
              "  </thead>\n",
              "  <tbody>\n",
              "    <tr>\n",
              "      <th>0</th>\n",
              "      <td>1</td>\n",
              "      <td>0</td>\n",
              "      <td>3</td>\n",
              "      <td>Braund, Mr. Owen Harris</td>\n",
              "      <td>male</td>\n",
              "      <td>22.0</td>\n",
              "      <td>1</td>\n",
              "      <td>0</td>\n",
              "      <td>A/5 21171</td>\n",
              "      <td>7.2500</td>\n",
              "      <td>NaN</td>\n",
              "      <td>S</td>\n",
              "    </tr>\n",
              "    <tr>\n",
              "      <th>1</th>\n",
              "      <td>2</td>\n",
              "      <td>1</td>\n",
              "      <td>1</td>\n",
              "      <td>Cumings, Mrs. John Bradley (Florence Briggs Th...</td>\n",
              "      <td>female</td>\n",
              "      <td>38.0</td>\n",
              "      <td>1</td>\n",
              "      <td>0</td>\n",
              "      <td>PC 17599</td>\n",
              "      <td>71.2833</td>\n",
              "      <td>C85</td>\n",
              "      <td>C</td>\n",
              "    </tr>\n",
              "    <tr>\n",
              "      <th>2</th>\n",
              "      <td>3</td>\n",
              "      <td>1</td>\n",
              "      <td>3</td>\n",
              "      <td>Heikkinen, Miss. Laina</td>\n",
              "      <td>female</td>\n",
              "      <td>26.0</td>\n",
              "      <td>0</td>\n",
              "      <td>0</td>\n",
              "      <td>STON/O2. 3101282</td>\n",
              "      <td>7.9250</td>\n",
              "      <td>NaN</td>\n",
              "      <td>S</td>\n",
              "    </tr>\n",
              "    <tr>\n",
              "      <th>3</th>\n",
              "      <td>4</td>\n",
              "      <td>1</td>\n",
              "      <td>1</td>\n",
              "      <td>Futrelle, Mrs. Jacques Heath (Lily May Peel)</td>\n",
              "      <td>female</td>\n",
              "      <td>35.0</td>\n",
              "      <td>1</td>\n",
              "      <td>0</td>\n",
              "      <td>113803</td>\n",
              "      <td>53.1000</td>\n",
              "      <td>C123</td>\n",
              "      <td>S</td>\n",
              "    </tr>\n",
              "    <tr>\n",
              "      <th>4</th>\n",
              "      <td>5</td>\n",
              "      <td>0</td>\n",
              "      <td>3</td>\n",
              "      <td>Allen, Mr. William Henry</td>\n",
              "      <td>male</td>\n",
              "      <td>35.0</td>\n",
              "      <td>0</td>\n",
              "      <td>0</td>\n",
              "      <td>373450</td>\n",
              "      <td>8.0500</td>\n",
              "      <td>NaN</td>\n",
              "      <td>S</td>\n",
              "    </tr>\n",
              "  </tbody>\n",
              "</table>\n",
              "</div>\n",
              "    <div class=\"colab-df-buttons\">\n",
              "\n",
              "  <div class=\"colab-df-container\">\n",
              "    <button class=\"colab-df-convert\" onclick=\"convertToInteractive('df-1806ff27-e972-4557-8e8c-32532e9ecb1d')\"\n",
              "            title=\"Convert this dataframe to an interactive table.\"\n",
              "            style=\"display:none;\">\n",
              "\n",
              "  <svg xmlns=\"http://www.w3.org/2000/svg\" height=\"24px\" viewBox=\"0 -960 960 960\">\n",
              "    <path d=\"M120-120v-720h720v720H120Zm60-500h600v-160H180v160Zm220 220h160v-160H400v160Zm0 220h160v-160H400v160ZM180-400h160v-160H180v160Zm440 0h160v-160H620v160ZM180-180h160v-160H180v160Zm440 0h160v-160H620v160Z\"/>\n",
              "  </svg>\n",
              "    </button>\n",
              "\n",
              "  <style>\n",
              "    .colab-df-container {\n",
              "      display:flex;\n",
              "      gap: 12px;\n",
              "    }\n",
              "\n",
              "    .colab-df-convert {\n",
              "      background-color: #E8F0FE;\n",
              "      border: none;\n",
              "      border-radius: 50%;\n",
              "      cursor: pointer;\n",
              "      display: none;\n",
              "      fill: #1967D2;\n",
              "      height: 32px;\n",
              "      padding: 0 0 0 0;\n",
              "      width: 32px;\n",
              "    }\n",
              "\n",
              "    .colab-df-convert:hover {\n",
              "      background-color: #E2EBFA;\n",
              "      box-shadow: 0px 1px 2px rgba(60, 64, 67, 0.3), 0px 1px 3px 1px rgba(60, 64, 67, 0.15);\n",
              "      fill: #174EA6;\n",
              "    }\n",
              "\n",
              "    .colab-df-buttons div {\n",
              "      margin-bottom: 4px;\n",
              "    }\n",
              "\n",
              "    [theme=dark] .colab-df-convert {\n",
              "      background-color: #3B4455;\n",
              "      fill: #D2E3FC;\n",
              "    }\n",
              "\n",
              "    [theme=dark] .colab-df-convert:hover {\n",
              "      background-color: #434B5C;\n",
              "      box-shadow: 0px 1px 3px 1px rgba(0, 0, 0, 0.15);\n",
              "      filter: drop-shadow(0px 1px 2px rgba(0, 0, 0, 0.3));\n",
              "      fill: #FFFFFF;\n",
              "    }\n",
              "  </style>\n",
              "\n",
              "    <script>\n",
              "      const buttonEl =\n",
              "        document.querySelector('#df-1806ff27-e972-4557-8e8c-32532e9ecb1d button.colab-df-convert');\n",
              "      buttonEl.style.display =\n",
              "        google.colab.kernel.accessAllowed ? 'block' : 'none';\n",
              "\n",
              "      async function convertToInteractive(key) {\n",
              "        const element = document.querySelector('#df-1806ff27-e972-4557-8e8c-32532e9ecb1d');\n",
              "        const dataTable =\n",
              "          await google.colab.kernel.invokeFunction('convertToInteractive',\n",
              "                                                    [key], {});\n",
              "        if (!dataTable) return;\n",
              "\n",
              "        const docLinkHtml = 'Like what you see? Visit the ' +\n",
              "          '<a target=\"_blank\" href=https://colab.research.google.com/notebooks/data_table.ipynb>data table notebook</a>'\n",
              "          + ' to learn more about interactive tables.';\n",
              "        element.innerHTML = '';\n",
              "        dataTable['output_type'] = 'display_data';\n",
              "        await google.colab.output.renderOutput(dataTable, element);\n",
              "        const docLink = document.createElement('div');\n",
              "        docLink.innerHTML = docLinkHtml;\n",
              "        element.appendChild(docLink);\n",
              "      }\n",
              "    </script>\n",
              "  </div>\n",
              "\n",
              "\n",
              "    <div id=\"df-69912078-9831-4297-836b-d1b00bf23ba1\">\n",
              "      <button class=\"colab-df-quickchart\" onclick=\"quickchart('df-69912078-9831-4297-836b-d1b00bf23ba1')\"\n",
              "                title=\"Suggest charts\"\n",
              "                style=\"display:none;\">\n",
              "\n",
              "<svg xmlns=\"http://www.w3.org/2000/svg\" height=\"24px\"viewBox=\"0 0 24 24\"\n",
              "     width=\"24px\">\n",
              "    <g>\n",
              "        <path d=\"M19 3H5c-1.1 0-2 .9-2 2v14c0 1.1.9 2 2 2h14c1.1 0 2-.9 2-2V5c0-1.1-.9-2-2-2zM9 17H7v-7h2v7zm4 0h-2V7h2v10zm4 0h-2v-4h2v4z\"/>\n",
              "    </g>\n",
              "</svg>\n",
              "      </button>\n",
              "\n",
              "<style>\n",
              "  .colab-df-quickchart {\n",
              "      --bg-color: #E8F0FE;\n",
              "      --fill-color: #1967D2;\n",
              "      --hover-bg-color: #E2EBFA;\n",
              "      --hover-fill-color: #174EA6;\n",
              "      --disabled-fill-color: #AAA;\n",
              "      --disabled-bg-color: #DDD;\n",
              "  }\n",
              "\n",
              "  [theme=dark] .colab-df-quickchart {\n",
              "      --bg-color: #3B4455;\n",
              "      --fill-color: #D2E3FC;\n",
              "      --hover-bg-color: #434B5C;\n",
              "      --hover-fill-color: #FFFFFF;\n",
              "      --disabled-bg-color: #3B4455;\n",
              "      --disabled-fill-color: #666;\n",
              "  }\n",
              "\n",
              "  .colab-df-quickchart {\n",
              "    background-color: var(--bg-color);\n",
              "    border: none;\n",
              "    border-radius: 50%;\n",
              "    cursor: pointer;\n",
              "    display: none;\n",
              "    fill: var(--fill-color);\n",
              "    height: 32px;\n",
              "    padding: 0;\n",
              "    width: 32px;\n",
              "  }\n",
              "\n",
              "  .colab-df-quickchart:hover {\n",
              "    background-color: var(--hover-bg-color);\n",
              "    box-shadow: 0 1px 2px rgba(60, 64, 67, 0.3), 0 1px 3px 1px rgba(60, 64, 67, 0.15);\n",
              "    fill: var(--button-hover-fill-color);\n",
              "  }\n",
              "\n",
              "  .colab-df-quickchart-complete:disabled,\n",
              "  .colab-df-quickchart-complete:disabled:hover {\n",
              "    background-color: var(--disabled-bg-color);\n",
              "    fill: var(--disabled-fill-color);\n",
              "    box-shadow: none;\n",
              "  }\n",
              "\n",
              "  .colab-df-spinner {\n",
              "    border: 2px solid var(--fill-color);\n",
              "    border-color: transparent;\n",
              "    border-bottom-color: var(--fill-color);\n",
              "    animation:\n",
              "      spin 1s steps(1) infinite;\n",
              "  }\n",
              "\n",
              "  @keyframes spin {\n",
              "    0% {\n",
              "      border-color: transparent;\n",
              "      border-bottom-color: var(--fill-color);\n",
              "      border-left-color: var(--fill-color);\n",
              "    }\n",
              "    20% {\n",
              "      border-color: transparent;\n",
              "      border-left-color: var(--fill-color);\n",
              "      border-top-color: var(--fill-color);\n",
              "    }\n",
              "    30% {\n",
              "      border-color: transparent;\n",
              "      border-left-color: var(--fill-color);\n",
              "      border-top-color: var(--fill-color);\n",
              "      border-right-color: var(--fill-color);\n",
              "    }\n",
              "    40% {\n",
              "      border-color: transparent;\n",
              "      border-right-color: var(--fill-color);\n",
              "      border-top-color: var(--fill-color);\n",
              "    }\n",
              "    60% {\n",
              "      border-color: transparent;\n",
              "      border-right-color: var(--fill-color);\n",
              "    }\n",
              "    80% {\n",
              "      border-color: transparent;\n",
              "      border-right-color: var(--fill-color);\n",
              "      border-bottom-color: var(--fill-color);\n",
              "    }\n",
              "    90% {\n",
              "      border-color: transparent;\n",
              "      border-bottom-color: var(--fill-color);\n",
              "    }\n",
              "  }\n",
              "</style>\n",
              "\n",
              "      <script>\n",
              "        async function quickchart(key) {\n",
              "          const quickchartButtonEl =\n",
              "            document.querySelector('#' + key + ' button');\n",
              "          quickchartButtonEl.disabled = true;  // To prevent multiple clicks.\n",
              "          quickchartButtonEl.classList.add('colab-df-spinner');\n",
              "          try {\n",
              "            const charts = await google.colab.kernel.invokeFunction(\n",
              "                'suggestCharts', [key], {});\n",
              "          } catch (error) {\n",
              "            console.error('Error during call to suggestCharts:', error);\n",
              "          }\n",
              "          quickchartButtonEl.classList.remove('colab-df-spinner');\n",
              "          quickchartButtonEl.classList.add('colab-df-quickchart-complete');\n",
              "        }\n",
              "        (() => {\n",
              "          let quickchartButtonEl =\n",
              "            document.querySelector('#df-69912078-9831-4297-836b-d1b00bf23ba1 button');\n",
              "          quickchartButtonEl.style.display =\n",
              "            google.colab.kernel.accessAllowed ? 'block' : 'none';\n",
              "        })();\n",
              "      </script>\n",
              "    </div>\n",
              "\n",
              "    </div>\n",
              "  </div>\n"
            ],
            "application/vnd.google.colaboratory.intrinsic+json": {
              "type": "dataframe",
              "summary": "{\n  \"name\": \"display(df_titanic\",\n  \"rows\": 5,\n  \"fields\": [\n    {\n      \"column\": \"PassengerId\",\n      \"properties\": {\n        \"dtype\": \"number\",\n        \"std\": 1,\n        \"min\": 1,\n        \"max\": 5,\n        \"num_unique_values\": 5,\n        \"samples\": [\n          2,\n          5,\n          3\n        ],\n        \"semantic_type\": \"\",\n        \"description\": \"\"\n      }\n    },\n    {\n      \"column\": \"Survived\",\n      \"properties\": {\n        \"dtype\": \"number\",\n        \"std\": 0,\n        \"min\": 0,\n        \"max\": 1,\n        \"num_unique_values\": 2,\n        \"samples\": [\n          1,\n          0\n        ],\n        \"semantic_type\": \"\",\n        \"description\": \"\"\n      }\n    },\n    {\n      \"column\": \"Pclass\",\n      \"properties\": {\n        \"dtype\": \"number\",\n        \"std\": 1,\n        \"min\": 1,\n        \"max\": 3,\n        \"num_unique_values\": 2,\n        \"samples\": [\n          1,\n          3\n        ],\n        \"semantic_type\": \"\",\n        \"description\": \"\"\n      }\n    },\n    {\n      \"column\": \"Name\",\n      \"properties\": {\n        \"dtype\": \"string\",\n        \"num_unique_values\": 5,\n        \"samples\": [\n          \"Cumings, Mrs. John Bradley (Florence Briggs Thayer)\",\n          \"Allen, Mr. William Henry\"\n        ],\n        \"semantic_type\": \"\",\n        \"description\": \"\"\n      }\n    },\n    {\n      \"column\": \"Sex\",\n      \"properties\": {\n        \"dtype\": \"category\",\n        \"num_unique_values\": 2,\n        \"samples\": [\n          \"female\",\n          \"male\"\n        ],\n        \"semantic_type\": \"\",\n        \"description\": \"\"\n      }\n    },\n    {\n      \"column\": \"Age\",\n      \"properties\": {\n        \"dtype\": \"number\",\n        \"std\": 6.833739825307955,\n        \"min\": 22.0,\n        \"max\": 38.0,\n        \"num_unique_values\": 4,\n        \"samples\": [\n          38.0,\n          35.0\n        ],\n        \"semantic_type\": \"\",\n        \"description\": \"\"\n      }\n    },\n    {\n      \"column\": \"SibSp\",\n      \"properties\": {\n        \"dtype\": \"number\",\n        \"std\": 0,\n        \"min\": 0,\n        \"max\": 1,\n        \"num_unique_values\": 2,\n        \"samples\": [\n          0,\n          1\n        ],\n        \"semantic_type\": \"\",\n        \"description\": \"\"\n      }\n    },\n    {\n      \"column\": \"Parch\",\n      \"properties\": {\n        \"dtype\": \"number\",\n        \"std\": 0,\n        \"min\": 0,\n        \"max\": 0,\n        \"num_unique_values\": 1,\n        \"samples\": [\n          0\n        ],\n        \"semantic_type\": \"\",\n        \"description\": \"\"\n      }\n    },\n    {\n      \"column\": \"Ticket\",\n      \"properties\": {\n        \"dtype\": \"string\",\n        \"num_unique_values\": 5,\n        \"samples\": [\n          \"PC 17599\"\n        ],\n        \"semantic_type\": \"\",\n        \"description\": \"\"\n      }\n    },\n    {\n      \"column\": \"Fare\",\n      \"properties\": {\n        \"dtype\": \"number\",\n        \"std\": 30.5100288352535,\n        \"min\": 7.25,\n        \"max\": 71.2833,\n        \"num_unique_values\": 5,\n        \"samples\": [\n          71.2833\n        ],\n        \"semantic_type\": \"\",\n        \"description\": \"\"\n      }\n    },\n    {\n      \"column\": \"Cabin\",\n      \"properties\": {\n        \"dtype\": \"category\",\n        \"num_unique_values\": 2,\n        \"samples\": [\n          \"C123\"\n        ],\n        \"semantic_type\": \"\",\n        \"description\": \"\"\n      }\n    },\n    {\n      \"column\": \"Embarked\",\n      \"properties\": {\n        \"dtype\": \"category\",\n        \"num_unique_values\": 2,\n        \"samples\": [\n          \"C\"\n        ],\n        \"semantic_type\": \"\",\n        \"description\": \"\"\n      }\n    }\n  ]\n}"
            }
          },
          "metadata": {}
        },
        {
          "output_type": "stream",
          "name": "stdout",
          "text": [
            "<class 'pandas.core.frame.DataFrame'>\n",
            "RangeIndex: 891 entries, 0 to 890\n",
            "Data columns (total 12 columns):\n",
            " #   Column       Non-Null Count  Dtype  \n",
            "---  ------       --------------  -----  \n",
            " 0   PassengerId  891 non-null    int64  \n",
            " 1   Survived     891 non-null    int64  \n",
            " 2   Pclass       891 non-null    int64  \n",
            " 3   Name         891 non-null    object \n",
            " 4   Sex          891 non-null    object \n",
            " 5   Age          714 non-null    float64\n",
            " 6   SibSp        891 non-null    int64  \n",
            " 7   Parch        891 non-null    int64  \n",
            " 8   Ticket       891 non-null    object \n",
            " 9   Fare         891 non-null    float64\n",
            " 10  Cabin        204 non-null    object \n",
            " 11  Embarked     889 non-null    object \n",
            "dtypes: float64(2), int64(5), object(5)\n",
            "memory usage: 83.7+ KB\n"
          ]
        },
        {
          "output_type": "display_data",
          "data": {
            "text/plain": [
              "None"
            ]
          },
          "metadata": {}
        }
      ]
    },
    {
      "cell_type": "markdown",
      "source": [
        "Clean the data:-\n",
        "\n",
        "Subtask:\n",
        "Handle any missing values in the 'Survived', 'Pclass', and 'Age' columns that are necessary for the analysis.\n",
        "\n",
        "Reasoning: Check for missing values in the relevant columns and impute the missing values in the 'Age' column using the median."
      ],
      "metadata": {
        "id": "i8vGlWYQq7yY"
      }
    },
    {
      "cell_type": "code",
      "source": [
        "print(\"Missing values before handling:\")\n",
        "display(df_titanic[['Survived', 'Pclass', 'Age']].isnull().sum())\n",
        "\n",
        "df_titanic['Age'].fillna(df_titanic['Age'].median(), inplace=True)\n",
        "\n",
        "print(\"\\nMissing values after handling:\")\n",
        "display(df_titanic[['Survived', 'Pclass', 'Age']].isnull().sum())\n"
      ],
      "metadata": {
        "colab": {
          "base_uri": "https://localhost:8080/",
          "height": 541
        },
        "id": "exdy9vNKrCEC",
        "outputId": "047e12f8-b51d-425e-87a8-e5d23b3a2222"
      },
      "execution_count": null,
      "outputs": [
        {
          "output_type": "stream",
          "name": "stdout",
          "text": [
            "Missing values before handling:\n"
          ]
        },
        {
          "output_type": "display_data",
          "data": {
            "text/plain": [
              "Survived      0\n",
              "Pclass        0\n",
              "Age         177\n",
              "dtype: int64"
            ],
            "text/html": [
              "<div>\n",
              "<style scoped>\n",
              "    .dataframe tbody tr th:only-of-type {\n",
              "        vertical-align: middle;\n",
              "    }\n",
              "\n",
              "    .dataframe tbody tr th {\n",
              "        vertical-align: top;\n",
              "    }\n",
              "\n",
              "    .dataframe thead th {\n",
              "        text-align: right;\n",
              "    }\n",
              "</style>\n",
              "<table border=\"1\" class=\"dataframe\">\n",
              "  <thead>\n",
              "    <tr style=\"text-align: right;\">\n",
              "      <th></th>\n",
              "      <th>0</th>\n",
              "    </tr>\n",
              "  </thead>\n",
              "  <tbody>\n",
              "    <tr>\n",
              "      <th>Survived</th>\n",
              "      <td>0</td>\n",
              "    </tr>\n",
              "    <tr>\n",
              "      <th>Pclass</th>\n",
              "      <td>0</td>\n",
              "    </tr>\n",
              "    <tr>\n",
              "      <th>Age</th>\n",
              "      <td>177</td>\n",
              "    </tr>\n",
              "  </tbody>\n",
              "</table>\n",
              "</div><br><label><b>dtype:</b> int64</label>"
            ]
          },
          "metadata": {}
        },
        {
          "output_type": "stream",
          "name": "stdout",
          "text": [
            "\n",
            "Missing values after handling:\n"
          ]
        },
        {
          "output_type": "stream",
          "name": "stderr",
          "text": [
            "/tmp/ipython-input-1507290572.py:4: FutureWarning: A value is trying to be set on a copy of a DataFrame or Series through chained assignment using an inplace method.\n",
            "The behavior will change in pandas 3.0. This inplace method will never work because the intermediate object on which we are setting values always behaves as a copy.\n",
            "\n",
            "For example, when doing 'df[col].method(value, inplace=True)', try using 'df.method({col: value}, inplace=True)' or df[col] = df[col].method(value) instead, to perform the operation inplace on the original object.\n",
            "\n",
            "\n",
            "  df_titanic['Age'].fillna(df_titanic['Age'].median(), inplace=True)\n"
          ]
        },
        {
          "output_type": "display_data",
          "data": {
            "text/plain": [
              "Survived    0\n",
              "Pclass      0\n",
              "Age         0\n",
              "dtype: int64"
            ],
            "text/html": [
              "<div>\n",
              "<style scoped>\n",
              "    .dataframe tbody tr th:only-of-type {\n",
              "        vertical-align: middle;\n",
              "    }\n",
              "\n",
              "    .dataframe tbody tr th {\n",
              "        vertical-align: top;\n",
              "    }\n",
              "\n",
              "    .dataframe thead th {\n",
              "        text-align: right;\n",
              "    }\n",
              "</style>\n",
              "<table border=\"1\" class=\"dataframe\">\n",
              "  <thead>\n",
              "    <tr style=\"text-align: right;\">\n",
              "      <th></th>\n",
              "      <th>0</th>\n",
              "    </tr>\n",
              "  </thead>\n",
              "  <tbody>\n",
              "    <tr>\n",
              "      <th>Survived</th>\n",
              "      <td>0</td>\n",
              "    </tr>\n",
              "    <tr>\n",
              "      <th>Pclass</th>\n",
              "      <td>0</td>\n",
              "    </tr>\n",
              "    <tr>\n",
              "      <th>Age</th>\n",
              "      <td>0</td>\n",
              "    </tr>\n",
              "  </tbody>\n",
              "</table>\n",
              "</div><br><label><b>dtype:</b> int64</label>"
            ]
          },
          "metadata": {}
        }
      ]
    },
    {
      "cell_type": "markdown",
      "source": [
        "Analyze survival rate by passenger class:-\n",
        "\n",
        "Subtask:\n",
        "Calculate the survival rate for each passenger class ('Pclass').\n",
        "\n",
        "Reasoning: Group the DataFrame by 'Pclass' and calculate the mean of 'Survived' to find the survival rate for each class, then display the result."
      ],
      "metadata": {
        "id": "CsqeqVEIrUS7"
      }
    },
    {
      "cell_type": "code",
      "source": [
        "survival_rate_by_class = df_titanic.groupby('Pclass')['Survived'].mean()\n",
        "display(survival_rate_by_class)"
      ],
      "metadata": {
        "colab": {
          "base_uri": "https://localhost:8080/",
          "height": 209
        },
        "id": "h9ynBFq6rHt9",
        "outputId": "5be4e748-eb1a-4504-8387-9f26b5279e77"
      },
      "execution_count": null,
      "outputs": [
        {
          "output_type": "display_data",
          "data": {
            "text/plain": [
              "Pclass\n",
              "1    0.629630\n",
              "2    0.472826\n",
              "3    0.242363\n",
              "Name: Survived, dtype: float64"
            ],
            "text/html": [
              "<div>\n",
              "<style scoped>\n",
              "    .dataframe tbody tr th:only-of-type {\n",
              "        vertical-align: middle;\n",
              "    }\n",
              "\n",
              "    .dataframe tbody tr th {\n",
              "        vertical-align: top;\n",
              "    }\n",
              "\n",
              "    .dataframe thead th {\n",
              "        text-align: right;\n",
              "    }\n",
              "</style>\n",
              "<table border=\"1\" class=\"dataframe\">\n",
              "  <thead>\n",
              "    <tr style=\"text-align: right;\">\n",
              "      <th></th>\n",
              "      <th>Survived</th>\n",
              "    </tr>\n",
              "    <tr>\n",
              "      <th>Pclass</th>\n",
              "      <th></th>\n",
              "    </tr>\n",
              "  </thead>\n",
              "  <tbody>\n",
              "    <tr>\n",
              "      <th>1</th>\n",
              "      <td>0.629630</td>\n",
              "    </tr>\n",
              "    <tr>\n",
              "      <th>2</th>\n",
              "      <td>0.472826</td>\n",
              "    </tr>\n",
              "    <tr>\n",
              "      <th>3</th>\n",
              "      <td>0.242363</td>\n",
              "    </tr>\n",
              "  </tbody>\n",
              "</table>\n",
              "</div><br><label><b>dtype:</b> float64</label>"
            ]
          },
          "metadata": {}
        }
      ]
    },
    {
      "cell_type": "markdown",
      "source": [
        "Present survival rate by passenger class:-\n",
        "\n",
        "Subtask:\n",
        "Display the survival rates by class and discuss which class had the highest survival rate and possible reasons.\n",
        "\n",
        "Reasoning: Print a statement indicating which passenger class had the highest survival rate and then add a markdown cell to discuss the possible reasons for the observed differences in survival rates among passenger classes."
      ],
      "metadata": {
        "id": "DVssmHD-rnfi"
      }
    },
    {
      "cell_type": "code",
      "source": [
        "\n",
        "highest_survival_class = survival_rate_by_class.idxmax()\n",
        "highest_survival_rate = survival_rate_by_class.max()\n",
        "\n",
        "print(f\"Passenger Class {highest_survival_class} had the highest survival rate of {highest_survival_rate:.2f}.\")\n"
      ],
      "metadata": {
        "colab": {
          "base_uri": "https://localhost:8080/"
        },
        "id": "zA4vBPMZrrHv",
        "outputId": "5d5ffdb9-b7df-43a6-9009-661628b90226"
      },
      "execution_count": null,
      "outputs": [
        {
          "output_type": "stream",
          "name": "stdout",
          "text": [
            "Passenger Class 1 had the highest survival rate of 0.63.\n"
          ]
        }
      ]
    },
    {
      "cell_type": "markdown",
      "source": [
        "\n",
        "Reasoning: Write a markdown cell discussing possible reasons for the observed differences in survival rates among passenger classes, considering factors such as location on the ship, access to lifeboats, and socioeconomic status"
      ],
      "metadata": {
        "id": "xa_KlIh4sJFo"
      }
    },
    {
      "cell_type": "code",
      "source": [
        "```markdown\n",
        "Possible Reasons for Differences in Survival Rates by Passenger Class:\n",
        "\n",
        "The analysis shows a clear disparity in survival rates across passenger classes, with First Class passengers having significantly higher survival rates compared to Second and Third Class passengers. Several factors likely contributed to this:\n",
        "\n",
        "*   **Location on the Ship:** First Class cabins were generally located on the upper decks of the Titanic, which were closer to the lifeboats. In contrast, Third Class cabins were primarily on the lower decks, making it more difficult and time-consuming for those passengers to reach the lifeboat deck during the emergency.\n",
        "*   **Access to Lifeboats:** Historical accounts and inquiries indicate that there was a \"women and children first\" protocol followed during the lifeboat evacuation, but access to the lifeboats was not equal across all classes. First and Second Class passengers had more direct and organized access to the lifeboats compared to Third Class passengers, who faced more obstacles and chaos in reaching the upper decks.\n",
        "*   **Socioeconomic Status:** Passenger class on the Titanic was directly linked to socioeconomic status. First Class passengers were generally wealthier and held positions of social prominence. This status may have afforded them advantages during the evacuation, including potentially preferential treatment or greater awareness of the emergency and evacuation procedures.\n",
        "*   **Ship Design and Layout:** The internal design of the ship, with physical barriers and segregated areas for different classes, would have also impacted the movement and access of passengers during the emergency.\n"
      ],
      "metadata": {
        "id": "vQem6cSssVg8"
      },
      "execution_count": null,
      "outputs": []
    },
    {
      "cell_type": "markdown",
      "source": [
        "\n",
        "Reasoning: Correct the syntax error by ensuring the markdown content is correctly formatted within the code block. The issue might be related to how the markdown content is interpreted within the triple backticks in this specific environment. I will try enclosing the markdown content in single quotes within the triple backticks as an alternative way to ensure it's treated as a single string."
      ],
      "metadata": {
        "id": "9zQuWAFhsZLx"
      }
    },
    {
      "cell_type": "code",
      "source": [
        "'''markdown\n",
        "Possible Reasons for Differences in Survival Rates by Passenger Class:\n",
        "\n",
        "The analysis shows a clear disparity in survival rates across passenger classes, with First Class passengers having significantly higher survival rates compared to Second and Third Class passengers. Several factors likely contributed to this:\n",
        "\n",
        "*   **Location on the Ship:** First Class cabins were generally located on the upper decks of the Titanic, which were closer to the lifeboats. In contrast, Third Class cabins were primarily on the lower decks, making it more difficult and time-consuming for those passengers to reach the lifeboat deck during the emergency.\n",
        "*   **Access to Lifeboats:** Historical accounts and inquiries indicate that there was a \"women and children first\" protocol followed during the lifeboat evacuation, but access to the lifeboats was not equal across all classes. First and Second Class passengers had more direct and organized access to the lifeboats compared to Third Class passengers, who faced more obstacles and chaos in reaching the upper decks.\n",
        "*   **Socioeconomic Status:** Passenger class on the Titanic was directly linked to socioeconomic status. First Class passengers were generally wealthier and held positions of social prominence. This status may have afforded them advantages during the evacuation, including potentially preferential treatment or greater awareness of the emergency and evacuation procedures.\n",
        "*   **Ship Design and Layout:** The internal design of the ship, with physical barriers and segregated areas for different classes, would have also impacted the movement and access of passengers during the emergency.\n",
        "'''\n"
      ],
      "metadata": {
        "colab": {
          "base_uri": "https://localhost:8080/",
          "height": 200
        },
        "id": "gJiFkMiZsYjl",
        "outputId": "baca38bb-b07d-4d99-a0c8-af7d70ceb52a"
      },
      "execution_count": null,
      "outputs": [
        {
          "output_type": "execute_result",
          "data": {
            "text/plain": [
              "'markdown\\nPossible Reasons for Differences in Survival Rates by Passenger Class:\\n\\nThe analysis shows a clear disparity in survival rates across passenger classes, with First Class passengers having significantly higher survival rates compared to Second and Third Class passengers. Several factors likely contributed to this:\\n\\n*   **Location on the Ship:** First Class cabins were generally located on the upper decks of the Titanic, which were closer to the lifeboats. In contrast, Third Class cabins were primarily on the lower decks, making it more difficult and time-consuming for those passengers to reach the lifeboat deck during the emergency.\\n*   **Access to Lifeboats:** Historical accounts and inquiries indicate that there was a \"women and children first\" protocol followed during the lifeboat evacuation, but access to the lifeboats was not equal across all classes. First and Second Class passengers had more direct and organized access to the lifeboats compared to Third Class passengers, who faced more obstacles and chaos in reaching the upper decks.\\n*   **Socioeconomic Status:** Passenger class on the Titanic was directly linked to socioeconomic status. First Class passengers were generally wealthier and held positions of social prominence. This status may have afforded them advantages during the evacuation, including potentially preferential treatment or greater awareness of the emergency and evacuation procedures.\\n*   **Ship Design and Layout:** The internal design of the ship, with physical barriers and segregated areas for different classes, would have also impacted the movement and access of passengers during the emergency.\\n'"
            ],
            "application/vnd.google.colaboratory.intrinsic+json": {
              "type": "string"
            }
          },
          "metadata": {},
          "execution_count": 9
        }
      ]
    },
    {
      "cell_type": "markdown",
      "source": [
        "Analyze survival rate by age group\n",
        "Subtask:\n",
        "\n",
        "Create age groups (children < 18, adults >= 18) and calculate the survival rate for each group.\n",
        "\n",
        "Reasoning: Create age groups and calculate the survival rate for each group as instructed"
      ],
      "metadata": {
        "id": "5n9pBwz5tQTv"
      }
    },
    {
      "cell_type": "code",
      "source": [
        "\n",
        "df_titanic['AgeGroup'] = df_titanic['Age'].apply(lambda x: 'Child' if x < 18 else 'Adult')\n",
        "survival_rate_by_age_group = df_titanic.groupby('AgeGroup')['Survived'].mean()\n",
        "display(survival_rate_by_age_group)"
      ],
      "metadata": {
        "colab": {
          "base_uri": "https://localhost:8080/",
          "height": 178
        },
        "id": "k6PwbegGsWlp",
        "outputId": "045add49-4192-43d1-f245-4732358ae808"
      },
      "execution_count": null,
      "outputs": [
        {
          "output_type": "display_data",
          "data": {
            "text/plain": [
              "AgeGroup\n",
              "Adult    0.361183\n",
              "Child    0.539823\n",
              "Name: Survived, dtype: float64"
            ],
            "text/html": [
              "<div>\n",
              "<style scoped>\n",
              "    .dataframe tbody tr th:only-of-type {\n",
              "        vertical-align: middle;\n",
              "    }\n",
              "\n",
              "    .dataframe tbody tr th {\n",
              "        vertical-align: top;\n",
              "    }\n",
              "\n",
              "    .dataframe thead th {\n",
              "        text-align: right;\n",
              "    }\n",
              "</style>\n",
              "<table border=\"1\" class=\"dataframe\">\n",
              "  <thead>\n",
              "    <tr style=\"text-align: right;\">\n",
              "      <th></th>\n",
              "      <th>Survived</th>\n",
              "    </tr>\n",
              "    <tr>\n",
              "      <th>AgeGroup</th>\n",
              "      <th></th>\n",
              "    </tr>\n",
              "  </thead>\n",
              "  <tbody>\n",
              "    <tr>\n",
              "      <th>Adult</th>\n",
              "      <td>0.361183</td>\n",
              "    </tr>\n",
              "    <tr>\n",
              "      <th>Child</th>\n",
              "      <td>0.539823</td>\n",
              "    </tr>\n",
              "  </tbody>\n",
              "</table>\n",
              "</div><br><label><b>dtype:</b> float64</label>"
            ]
          },
          "metadata": {}
        }
      ]
    },
    {
      "cell_type": "markdown",
      "source": [
        "Present survival rate by age group\n",
        "Subtask:\n",
        "\n",
        "Display the survival rates by age group and discuss whether children had a better chance of survival and possible reasons.\n",
        "\n",
        "Reasoning: Print the statement comparing survival rates for children and adults, including the calculated rates, and then create a markdown cell to discuss the possible reasons for the observed differences, including the \"women and children first\" protocol."
      ],
      "metadata": {
        "id": "fVsnE-4otgsF"
      }
    },
    {
      "cell_type": "code",
      "source": [
        "print(f\"Based on the data, children had a better chance of survival than adults.\")\n",
        "print(f\"Survival Rate for Children: {survival_rate_by_age_group['Child']:.2f}\")\n",
        "print(f\"Survival Rate for Adults: {survival_rate_by_age_group['Adult']:.2f}\")"
      ],
      "metadata": {
        "colab": {
          "base_uri": "https://localhost:8080/"
        },
        "id": "3Komj8DXtofs",
        "outputId": "3d264ac7-0190-403c-fa8e-819cbb6934b4"
      },
      "execution_count": null,
      "outputs": [
        {
          "output_type": "stream",
          "name": "stdout",
          "text": [
            "Based on the data, children had a better chance of survival than adults.\n",
            "Survival Rate for Children: 0.54\n",
            "Survival Rate for Adults: 0.36\n"
          ]
        }
      ]
    },
    {
      "cell_type": "markdown",
      "source": [
        "Reasoning: Write a markdown cell discussing possible reasons for the observed differences in survival rates between children and adults, considering the historical context of the \"women and children first\" protocol."
      ],
      "metadata": {
        "id": "05_jw-wTtoFP"
      }
    },
    {
      "cell_type": "code",
      "source": [
        "```markdown\n",
        "Possible Reasons for Differences in Survival Rates by Age Group:\n",
        "\n",
        "The analysis indicates that children had a significantly higher survival rate (54%) compared to adults (36%). Several factors likely contributed to this difference:\n",
        "\n",
        "*   **\"Women and Children First\" Protocol:** Historical accounts suggest that a \"women and children first\" protocol was, to some extent, followed during the lifeboat evacuation. While not strictly adhered to in all cases and complicated by factors like passenger class and access to lifeboats, this directive likely prioritized the evacuation of women and children, leading to a higher proportion of them surviving.\n",
        "*   **Empathy and Social Norms:** In a disaster scenario, there is a natural human inclination to protect the most vulnerable, including children. This social norm and empathy among passengers and crew could have played a role in prioritizing the safety of children during the chaotic evacuation.\n",
        "*   **Physical Assistance:** Children would have required assistance to navigate the sinking ship and"
      ],
      "metadata": {
        "colab": {
          "base_uri": "https://localhost:8080/",
          "height": 110
        },
        "id": "v_NsK6BRtwy-",
        "outputId": "b19c751d-991b-4c52-8a9d-41f849fe346b"
      },
      "execution_count": null,
      "outputs": [
        {
          "output_type": "error",
          "ename": "SyntaxError",
          "evalue": "invalid syntax (ipython-input-733701258.py, line 1)",
          "traceback": [
            "\u001b[0;36m  File \u001b[0;32m\"/tmp/ipython-input-733701258.py\"\u001b[0;36m, line \u001b[0;32m1\u001b[0m\n\u001b[0;31m    ```markdown\u001b[0m\n\u001b[0m    ^\u001b[0m\n\u001b[0;31mSyntaxError\u001b[0m\u001b[0;31m:\u001b[0m invalid syntax\n"
          ]
        }
      ]
    },
    {
      "cell_type": "markdown",
      "source": [
        "Reasoning: Correct the syntax error by ensuring the markdown content is correctly formatted within the code block. The issue might be related to how the markdown content is interpreted within the triple backticks in this specific environment. I will try enclosing the markdown content in single quotes within the triple backticks as an alternative way to ensure it's treated as a single string."
      ],
      "metadata": {
        "id": "1WFUAf3JuW_M"
      }
    },
    {
      "cell_type": "code",
      "source": [
        "'''markdown\n",
        "Possible Reasons for Differences in Survival Rates by Age Group:\n",
        "\n",
        "The analysis indicates that children had a significantly higher survival rate (54%) compared to adults (36%). Several factors likely contributed to this difference:\n",
        "\n",
        "*   **\"Women and Children First\" Protocol:** Historical accounts suggest that a \"women and children first\" protocol was, to some extent, followed during the lifeboat evacuation. While not strictly adhered to in all cases and complicated by factors like passenger class and access to lifeboats, this directive likely prioritized the evacuation of women and children, leading to a higher proportion of them surviving.\n",
        "*   **Empathy and Social Norms:** In a disaster scenario, there is a natural human inclination to protect the most vulnerable, including children. This social norm and empathy among passengers and crew could have played a role in prioritizing the safety of children during the chaotic evacuation.\n",
        "*   **Physical Assistance:** Children would have required assistance to navigate the sinking ship and board lifeboats. Adults, particularly their guardians or other compassionate individuals, would have provided this assistance, increasing the chances of children reaching safety.\n",
        "'''"
      ],
      "metadata": {
        "colab": {
          "base_uri": "https://localhost:8080/",
          "height": 200
        },
        "id": "lwYUawiiuWkw",
        "outputId": "dc7a7968-e048-416c-8d4a-7738db68fdba"
      },
      "execution_count": null,
      "outputs": [
        {
          "output_type": "execute_result",
          "data": {
            "text/plain": [
              "'markdown\\nPossible Reasons for Differences in Survival Rates by Age Group:\\n\\nThe analysis indicates that children had a significantly higher survival rate (54%) compared to adults (36%). Several factors likely contributed to this difference:\\n\\n*   **\"Women and Children First\" Protocol:** Historical accounts suggest that a \"women and children first\" protocol was, to some extent, followed during the lifeboat evacuation. While not strictly adhered to in all cases and complicated by factors like passenger class and access to lifeboats, this directive likely prioritized the evacuation of women and children, leading to a higher proportion of them surviving.\\n*   **Empathy and Social Norms:** In a disaster scenario, there is a natural human inclination to protect the most vulnerable, including children. This social norm and empathy among passengers and crew could have played a role in prioritizing the safety of children during the chaotic evacuation.\\n*   **Physical Assistance:** Children would have required assistance to navigate the sinking ship and board lifeboats. Adults, particularly their guardians or other compassionate individuals, would have provided this assistance, increasing the chances of children reaching safety.\\n'"
            ],
            "application/vnd.google.colaboratory.intrinsic+json": {
              "type": "string"
            }
          },
          "metadata": {},
          "execution_count": 13
        }
      ]
    },
    {
      "cell_type": "markdown",
      "source": [
        "Summary:\n",
        "\n",
        "Q&A:-\n",
        "\n",
        "Which passenger class had the highest survival rate? Passenger Class 1 had the highest survival rate.\n",
        "Did children (Age < 18) have a better chance of survival than adults (Age >= 18)? Yes, children had a better chance of survival than adults.\n",
        "Data Analysis Key Findings.\n",
        "\n",
        "Survival rates varied significantly by passenger class: Pclass 1 had a survival rate of approximately 63%, Pclass 2 had about 47%, and Pclass 3 had only around 24%.\n",
        "\n",
        "Children (under 18) had a higher survival rate (approximately 54%) compared to adults (18 and over), whose survival rate was about 36%.\n",
        "Insights or Next Steps\n",
        "The findings suggest that both socioeconomic factors (represented by passenger class) and age played significant roles in determining survival outcomes on the Titanic.\n",
        "\n",
        "Further analysis could explore the interaction between passenger class and age group to understand if the \"women and children first\" protocol was applied differently across classes."
      ],
      "metadata": {
        "id": "b6B_PtvIurNV"
      }
    },
    {
      "cell_type": "code",
      "source": [
        "#9 Flight price prediction dataset\n",
        "# a) How do flight prices vary with the days left until departure? identify any exponential price surges and recommend the best booking window.\n",
        "# b) Compare prices across airlines for the same route (e.g., delhi-mumbai). which airlines are consistently cheaper/premium and why?\n",
        "\n",
        "\n",
        "\n"
      ],
      "metadata": {
        "id": "zF8WIDpIQiJO"
      },
      "execution_count": null,
      "outputs": []
    },
    {
      "cell_type": "markdown",
      "source": [
        "\n",
        "Recommend booking window\n",
        "Subtask:\n",
        "Based on the analysis, recommend the best booking window to potentially find lower prices.\n",
        "\n",
        "Based on the plot showing the average flight price versus the number of days left until departure, we can observe the following:\n",
        "\n",
        "Prices tend to be higher when booking very close to the departure date (around 1-7 days).\n",
        "Prices seem to be relatively lower and more stable when booking further in advance. There isn't a single \"best\" day, but a window where prices are generally lower.\n",
        "Considering these observations, a recommended booking window to potentially find lower prices would be more than 30 days before departure. Prices appear to be lower and less volatile in this period compared to booking closer to the flight date. However, it's worth noting that prices can fluctuate, and this is based on average prices from this dataset."
      ],
      "metadata": {
        "id": "WI3WCootu8VH"
      }
    },
    {
      "cell_type": "code",
      "source": [
        "# flight_price_analysis.py\n",
        "# Requires: pandas, numpy, matplotlib, seaborn, scipy\n",
        "# Install if needed: pip install pandas numpy matplotlib seaborn scipy\n",
        "\n",
        "import pandas as pd\n",
        "import numpy as np\n",
        "import matplotlib.pyplot as plt\n",
        "import seaborn as sns\n",
        "from scipy.optimize import curve_fit\n",
        "from scipy.stats import ttest_ind\n",
        "\n",
        "sns.set(style=\"whitegrid\")\n",
        "\n",
        "# ---- CONFIG ----\n",
        "RAW_CSV = \"https://raw.githubusercontent.com/MasteriNeuron/datasets/main/flight_price.csv\"\n",
        "ROUTE_SRC = \"Delhi\"     # adjust if dataset uses different naming (e.g., 'DEL')\n",
        "ROUTE_DST = \"Mumbai\"    # adjust if dataset uses different naming (e.g., 'BOM')\n",
        "MIN_OBS_PER_DAY = 5     # ignore days with < this many observations when computing averages\n",
        "SPIKE_PCT_THRESHOLD = 0.15  # 15% day-to-day increase flagged as a surge\n",
        "\n",
        "# ---- 1) Load data ----\n",
        "# The dataset is already loaded in the notebook as df from 'flight_price.csv'\n",
        "# df = pd.read_csv(RAW_CSV) # Commenting out this line as data is already loaded\n",
        "\n",
        "# Load the flight price data\n",
        "df_flight = pd.read_csv('/content/flight_price.csv')\n",
        "\n",
        "# Quick view of columns\n",
        "print(\"Columns:\", df_flight.columns.tolist())\n",
        "print(\"Rows:\", len(df_flight))\n",
        "print(df_flight.head())\n",
        "\n",
        "# ---- 2) Basic cleaning / ensure required fields ----\n",
        "# The script assumes there's a 'days_left' column and 'Price', 'Airline', 'Source', 'Destination' columns.\n",
        "# Update expected_cols to match the actual column names\n",
        "expected_cols = {'days_left', 'price', 'airline', 'source_city', 'destination_city'}\n",
        "missing = expected_cols - set(df_flight.columns)\n",
        "if missing:\n",
        "    raise ValueError(f\"Dataset missing required columns: {missing} - please adapt code to actual column names.\")\n",
        "\n",
        "# Drop rows with missing Price or days_left\n",
        "df_flight = df_flight[df_flight['price'].notna() & df_flight['days_left'].notna()].copy()\n",
        "df_flight['days_left'] = df_flight['days_left'].astype(int)\n",
        "df_flight['price'] = pd.to_numeric(df_flight['price'], errors='coerce')\n",
        "df_flight = df_flight[df_flight['price'].notna()]\n",
        "\n",
        "# ---- PART (a): How do prices vary with days_left? ----\n",
        "\n",
        "# Compute average price by days_left, ignoring days with too few observations\n",
        "count_by_day = df_flight.groupby('days_left')['price'].agg(['mean','count']).reset_index().rename(columns={'mean':'avg_price'})\n",
        "average_price_by_days_left = count_by_day[count_by_day['count'] >= MIN_OBS_PER_DAY].copy()\n",
        "average_price_by_days_left = average_price_by_days_left.sort_values('days_left')\n",
        "\n",
        "print(\"\\nAverage price by days_left (sample):\")\n",
        "print(average_price_by_days_left.head(15).to_string(index=False))\n",
        "\n",
        "# Plot average price vs days_left\n",
        "plt.figure(figsize=(10,5))\n",
        "plt.plot(average_price_by_days_left['days_left'], average_price_by_days_left['avg_price'], marker='o', linestyle='-')\n",
        "plt.gca().invert_xaxis()  # optional: show \"days left\" decreasing left->right\n",
        "plt.title(\"Average Price vs Days Left Before Departure\")\n",
        "plt.xlabel(\"Days Left\")\n",
        "plt.ylabel(\"Average Price\")\n",
        "plt.tight_layout()\n",
        "plt.show()\n",
        "\n",
        "# Fit a simple exponential model to detect exponential surge (price ~ a * exp(b * days_left) or decaying)\n",
        "# We'll fit price = A + B * exp(-k * days_left) because price often increases as days_left -> 0\n",
        "def exp_model(x, A, B, k):\n",
        "    return A + B * np.exp(-k * x)\n",
        "\n",
        "# use only day range where we have good data\n",
        "xdata = average_price_by_days_left['days_left'].values\n",
        "ydata = average_price_by_days_left['avg_price'].values\n",
        "\n",
        "# Provide initial guesses (A = last value, B = first-last, k small positive)\n",
        "try:\n",
        "    p0 = [ydata.min(), ydata.max()-ydata.min(), 0.05]\n",
        "    popt, pcov = curve_fit(exp_model, xdata, ydata, p0=p0, maxfev=10000)\n",
        "    A,B,k = popt\n",
        "    print(f\"\\nFitted exponential-decay params: A={A:.2f}, B={B:.2f}, k={k:.4f}\")\n",
        "    # calculate fitted curve and residuals\n",
        "    fitted = exp_model(xdata, *popt)\n",
        "    mse = np.mean((ydata - fitted)**2)\n",
        "    print(f\"Exponential fit MSE: {mse:.2f}\")\n",
        "    # plot fit\n",
        "    plt.figure(figsize=(10,5))\n",
        "    plt.scatter(xdata, ydata, label='Observed', zorder=3)\n",
        "    xs = np.linspace(xdata.min(), xdata.max(), 200)\n",
        "    plt.plot(xs, exp_model(xs, *popt), label='Exp fit (A + B*exp(-k*x))')\n",
        "    plt.gca().invert_xaxis()\n",
        "    plt.title(\"Average Price and Exponential Fit\")\n",
        "    plt.xlabel(\"Days Left\")\n",
        "    plt.ylabel(\"Average Price\")\n",
        "    plt.legend()\n",
        "    plt.tight_layout()\n",
        "    plt.show()\n",
        "except Exception as e:\n",
        "    print(\"Exponential fit failed:\", e)\n",
        "    popt = None\n",
        "\n",
        "# Detect day-to-day percent changes to flag exponential-like surges near departure\n",
        "average_price_by_days_left['pct_change'] = average_price_by_days_left['avg_price'].pct_change().fillna(0)\n",
        "# We want increases when days_left decreases (we inverted axis earlier). We'll look for large positive jumps for smaller days_left.\n",
        "# Find spikes where absolute pct_change exceeds threshold\n",
        "spikes = average_price_by_days_left[average_price_by_days_left['pct_change'] > SPIKE_PCT_THRESHOLD]\n",
        "print(\"\\nDetected large day-to-day % increases (spikes):\")\n",
        "if spikes.empty:\n",
        "    print(\"No large single-day spikes above threshold found.\")\n",
        "else:\n",
        "    print(spikes[['days_left','avg_price','pct_change','count']].to_string(index=False))\n",
        "\n",
        "# Recommend booking window:\n",
        "# Strategy: find window of days where avg price is near its minimum and generally stable.\n",
        "min_price = average_price_by_days_left['avg_price'].min()\n",
        "# allow windows where price <= min_price * (1 + slack)\n",
        "SLACK = 0.05\n",
        "good_days = average_price_by_days_left[average_price_by_days_left['avg_price'] <= (min_price * (1 + SLACK))]\n",
        "if not good_days.empty:\n",
        "    best_window = (good_days['days_left'].max(), good_days['days_left'].min())  # e.g., 60-30 days left\n",
        "    print(f\"\\nRecommended booking window: between {best_window[0]} and {best_window[1]} days before departure (prices within {SLACK*100:.0f}% of minimum).\")\n",
        "else:\n",
        "    # fallback: day(s) with minimum average price\n",
        "    best_days = average_price_by_days_left[average_price_by_days_left['avg_price'] == min_price]['days_left'].tolist()\n",
        "    print(f\"\\nRecommended booking day(s): {best_days} (minimum average price).\")\n",
        "\n",
        "# ---- PART (b): Compare airlines on a route: Delhi -> Mumbai ----\n",
        "\n",
        "# Filter route\n",
        "# Update column names for filtering\n",
        "route_df = df_flight[(df_flight['source_city'].str.lower() == ROUTE_SRC.lower()) & (df_flight['destination_city'].str.lower() == ROUTE_DST.lower())].copy()\n",
        "print(f\"\\nRows for route {ROUTE_SRC} -> {ROUTE_DST}: {len(route_df)}\")\n",
        "if route_df.empty:\n",
        "    raise ValueError(\"No rows found for the specified route. Check exact values in 'Source' and 'Destination' columns.\")\n",
        "\n",
        "# Compute summary by airline\n",
        "# Update column name for grouping\n",
        "airline_summary = route_df.groupby('airline')['price'].agg(['mean','median','std','count']).reset_index().sort_values('mean')\n",
        "airline_summary['mean'] = airline_summary['mean'].round(2)\n",
        "print(\"\\nAirline price summary for route (sorted by mean price):\")\n",
        "print(airline_summary.to_string(index=False))\n",
        "\n",
        "# Visual: boxplot of prices by airline (only airlines with enough samples)\n",
        "MIN_SAMPLES_AIRLINE = 10\n",
        "# Update column name for filtering\n",
        "top_airlines = airline_summary[airline_summary['count'] >= MIN_SAMPLES_AIRLINE]['airline'].tolist()\n",
        "plt.figure(figsize=(12,6))\n",
        "# Update column names for plotting\n",
        "sns.boxplot(data=route_df[route_df['airline'].isin(top_airlines)], x='airline', y='price')\n",
        "plt.title(f\"Price distribution by Airline for {ROUTE_SRC} -> {ROUTE_DST} (airlines with >= {MIN_SAMPLES_AIRLINE} bookings)\")\n",
        "plt.xticks(rotation=45)\n",
        "plt.tight_layout()\n",
        "plt.show()\n",
        "\n",
        "# Identify consistently cheapest / premium (by mean and median)\n",
        "cheapest = airline_summary.iloc[0]\n",
        "most_expensive = airline_summary.iloc[-1]\n",
        "print(f\"\\nCheapest on average: {cheapest['airline']} (mean={cheapest['mean']}, n={int(cheapest['count'])})\")\n",
        "print(f\"Most expensive on average: {most_expensive['airline']} (mean={most_expensive['mean']}, n={int(most_expensive['count'])})\")\n",
        "\n",
        "# Statistical check: is the cheapest significantly cheaper than the most expensive?\n",
        "# Update column name for filtering\n",
        "a_prices = route_df[route_df['airline'] == cheapest['airline']]['price']\n",
        "b_prices = route_df[route_df['airline'] == most_expensive['airline']]['price']\n",
        "if len(a_prices) >= 5 and len(b_prices) >= 5:\n",
        "    tstat, pvalue = ttest_ind(a_prices, b_prices, equal_var=False, nan_policy='omit')\n",
        "    print(f\"\\nT-test between {cheapest['airline']} and {most_expensive['airline']}: t = {tstat:.3f}, p = {pvalue:.4f}\")\n",
        "    if pvalue < 0.05:\n",
        "        print(\"Difference in means is statistically significant (p < 0.05).\")\n",
        "    else:\n",
        "        print(\"Difference in means NOT statistically significant at p < 0.05.\")\n",
        "else:\n",
        "    print(\"\\nInsufficient samples to perform a reliable t-test between the cheapest and most expensive airlines.\")\n",
        "\n",
        "# ---- Interpretation & Reasons (printed) ----\n",
        "print(\"\\n--- Interpretation & Recommendations ---\")\n",
        "print(\"Part (a) — Price vs days_left:\")\n",
        "print(\"  * The plotted curve and exponential fit (if successful) show the general behavior. Often prices are lower when booked early, then slowly increase, with possible sharp surges in the final days before departure.\")\n",
        "print(\"  * We flagged single-day percent jumps > {:.0%} as spikes. If spikes appear for very small 'days_left' (e.g., 0-7 days), that indicates last-minute surge — book earlier to avoid these.\".format(SPIKE_PCT_THRESHOLD))\n",
        "\n",
        "print(\"\\nPart (a) — Booking window recommendation:\")\n",
        "if not good_days.empty:\n",
        "    print(f\"  * Recommended booking window: {best_window[0]} to {best_window[1]} days before departure (prices within {SLACK*100:.0f}% of minimum).\")\n",
        "else:\n",
        "    print(\"  * No broad low-price window detected; use day(s) with minimum average price or consider monitoring using alerts.\")\n",
        "\n",
        "print(\"\\nPart (b) — Airline comparison for route:\")\n",
        "print(\"  * Airlines with lower mean & median prices are candidates for 'cheaper' carriers; those with higher mean/median are 'premium' on this route.\")\n",
        "print(\"  * Reasons for consistent differences (qualitative):\")\n",
        "print(\"    - Business model: Low-cost carriers often offer lower base fares but charge for ancillaries (baggage, seat selection).\")\n",
        "print(\"    - Fleet & service: Full-service carriers may have higher operating costs and include more services in the fare.\")\n",
        "print(\"    - Frequency & competition: Routes with multiple low-cost carriers lead to cheaper fares due to competition.\")\n",
        "print(\"    - Booking mix: Corporate/business-heavy carriers may price higher due to demand from business travellers.\")\n",
        "print(\"    - Time & seasonality: If an airline's flights are concentrated at convenient times, it might charge premium prices.\")\n",
        "\n",
        "# Optionally save outputs\n",
        "average_price_by_days_left.to_csv(\"average_price_by_days_left.csv\", index=False)\n",
        "airline_summary.to_csv(\"airline_summary_route.csv\", index=False)\n",
        "print(\"\\nSaved CSV summaries: average_price_by_days_left.csv, airline_summary_route.csv\")"
      ],
      "metadata": {
        "colab": {
          "base_uri": "https://localhost:8080/",
          "height": 1000
        },
        "id": "FeFCYzGx3WqE",
        "outputId": "a8b7e1ba-0e51-4bbb-a775-afceda4e6ea7"
      },
      "execution_count": null,
      "outputs": [
        {
          "output_type": "stream",
          "name": "stdout",
          "text": [
            "Columns: ['Unnamed: 0', 'airline', 'flight', 'source_city', 'departure_time', 'stops', 'arrival_time', 'destination_city', 'class', 'duration', 'days_left', 'price']\n",
            "Rows: 300153\n",
            "   Unnamed: 0   airline   flight source_city departure_time stops  \\\n",
            "0           0  SpiceJet  SG-8709       Delhi        Evening  zero   \n",
            "1           1  SpiceJet  SG-8157       Delhi  Early_Morning  zero   \n",
            "2           2   AirAsia   I5-764       Delhi  Early_Morning  zero   \n",
            "3           3   Vistara   UK-995       Delhi        Morning  zero   \n",
            "4           4   Vistara   UK-963       Delhi        Morning  zero   \n",
            "\n",
            "    arrival_time destination_city    class  duration  days_left  price  \n",
            "0          Night           Mumbai  Economy      2.17          1   5953  \n",
            "1        Morning           Mumbai  Economy      2.33          1   5953  \n",
            "2  Early_Morning           Mumbai  Economy      2.17          1   5956  \n",
            "3      Afternoon           Mumbai  Economy      2.25          1   5955  \n",
            "4        Morning           Mumbai  Economy      2.33          1   5955  \n",
            "\n",
            "Average price by days_left (sample):\n",
            " days_left    avg_price  count\n",
            "         1 21591.867151   1927\n",
            "         2 30211.299801   4026\n",
            "         3 28976.083569   4248\n",
            "         4 25730.905653   5077\n",
            "         5 26679.773368   5392\n",
            "         6 24856.493902   5740\n",
            "         7 25588.367351   5703\n",
            "         8 24895.883995   5767\n",
            "         9 25726.246072   5665\n",
            "        10 25572.819134   5822\n",
            "        11 22990.656070   6417\n",
            "        12 22505.803322   6381\n",
            "        13 22498.885384   6404\n",
            "        14 22678.002363   6349\n",
            "        15 21952.540852   6340\n"
          ]
        },
        {
          "output_type": "display_data",
          "data": {
            "text/plain": [
              "<Figure size 1000x500 with 1 Axes>"
            ],
            "image/png": "[encoded data removed]"
          },
          "metadata": {}
        },
        {
          "output_type": "stream",
          "name": "stdout",
          "text": [
            "\n",
            "Fitted exponential-decay params: A=18476.23, B=10254.78, k=0.0744\n",
            "Exponential fit MSE: 1617450.27\n"
          ]
        },
        {
          "output_type": "display_data",
          "data": {
            "text/plain": [
              "<Figure size 1000x500 with 1 Axes>"
            ],
            "image/png": "[encoded data removed]"
          },
          "metadata": {}
        },
        {
          "output_type": "stream",
          "name": "stdout",
          "text": [
            "\n",
            "Detected large day-to-day % increases (spikes):\n",
            " days_left    avg_price  pct_change  count\n",
            "         2 30211.299801    0.399198   4026\n",
            "\n",
            "Recommended booking window: between 49 and 21 days before departure (prices within 5% of minimum).\n",
            "\n",
            "Rows for route Delhi -> Mumbai: 15289\n",
            "\n",
            "Airline price summary for route (sorted by mean price):\n",
            "  airline     mean  median          std  count\n",
            "  AirAsia  3981.19  2410.0  2758.896914    632\n",
            "   Indigo  4473.74  3570.0  2728.570434   1656\n",
            " SpiceJet  4628.25  3519.0  2595.084534    504\n",
            " GO_FIRST  5762.21  5806.0  3268.431457   1650\n",
            "Air_India 23695.92 17295.0 19614.546482   5007\n",
            "  Vistara 26630.29 21718.5 21431.592806   5840\n"
          ]
        },
        {
          "output_type": "display_data",
          "data": {
            "text/plain": [
              "<Figure size 1200x600 with 1 Axes>"
            ],
            "image/png": "[encoded data removed]"
          },
          "metadata": {}
        },
        {
          "output_type": "stream",
          "name": "stdout",
          "text": [
            "\n",
            "Cheapest on average: AirAsia (mean=3981.19, n=632)\n",
            "Most expensive on average: Vistara (mean=26630.29, n=5840)\n",
            "\n",
            "T-test between AirAsia and Vistara: t = -75.208, p = 0.0000\n",
            "Difference in means is statistically significant (p < 0.05).\n",
            "\n",
            "--- Interpretation & Recommendations ---\n",
            "Part (a) — Price vs days_left:\n",
            "  * The plotted curve and exponential fit (if successful) show the general behavior. Often prices are lower when booked early, then slowly increase, with possible sharp surges in the final days before departure.\n",
            "  * We flagged single-day percent jumps > 15% as spikes. If spikes appear for very small 'days_left' (e.g., 0-7 days), that indicates last-minute surge — book earlier to avoid these.\n",
            "\n",
            "Part (a) — Booking window recommendation:\n",
            "  * Recommended booking window: 49 to 21 days before departure (prices within 5% of minimum).\n",
            "\n",
            "Part (b) — Airline comparison for route:\n",
            "  * Airlines with lower mean & median prices are candidates for 'cheaper' carriers; those with higher mean/median are 'premium' on this route.\n",
            "  * Reasons for consistent differences (qualitative):\n",
            "    - Business model: Low-cost carriers often offer lower base fares but charge for ancillaries (baggage, seat selection).\n",
            "    - Fleet & service: Full-service carriers may have higher operating costs and include more services in the fare.\n",
            "    - Frequency & competition: Routes with multiple low-cost carriers lead to cheaper fares due to competition.\n",
            "    - Booking mix: Corporate/business-heavy carriers may price higher due to demand from business travellers.\n",
            "    - Time & seasonality: If an airline's flights are concentrated at convenient times, it might charge premium prices.\n",
            "\n",
            "Saved CSV summaries: average_price_by_days_left.csv, airline_summary_route.csv\n"
          ]
        }
      ]
    },
    {
      "cell_type": "code",
      "source": [
        "#10 HR analytics dataset\n",
        "# a) What factors most strongly correlate with employee attrition? use visualization to show key drives (e.g.., satisfaction, overtime, salary).\n",
        "# b) Are employees with more projects more likely to leave?"
      ],
      "metadata": {
        "id": "pfscoGVLR2Jx"
      },
      "execution_count": null,
      "outputs": []
    },
    {
      "cell_type": "code",
      "source": [
        "import pandas as pd\n",
        "\n",
        "df = pd.read_csv(\"hr_analytics.csv\")\n",
        "\n",
        "print(\"Available columns:\")\n",
        "print(df.columns.tolist())\n"
      ],
      "metadata": {
        "colab": {
          "base_uri": "https://localhost:8080/"
        },
        "id": "17RkisxD32Np",
        "outputId": "e1fbd433-88f5-4c47-d561-fad149fa2aa4"
      },
      "execution_count": null,
      "outputs": [
        {
          "output_type": "stream",
          "name": "stdout",
          "text": [
            "Available columns:\n",
            "['satisfaction_level', 'last_evaluation', 'number_project', 'average_montly_hours', 'time_spend_company', 'Work_accident', 'left', 'promotion_last_5years', 'sales', 'salary']\n"
          ]
        }
      ]
    },
    {
      "cell_type": "markdown",
      "source": [
        " Identify which column indicates whether the employee left\n",
        "\n",
        "Look at the printed list — you’ll likely see something like one of these:\n",
        "\n",
        "\"attrition\"\n",
        "\n",
        "\"Employee Attrition\"\n",
        "\n",
        "\"Attrition_Flag\"\n",
        "\n",
        "\"left\"\n",
        "\n",
        "\"Turnover\"\n",
        "\n",
        "\"EmployeeLeft\"\n",
        "\n",
        "\"Resigned\""
      ],
      "metadata": {
        "id": "ZIHDD_i4qseo"
      }
    },
    {
      "cell_type": "code",
      "source": [
        "df.rename(columns={'left': 'Attrition'}, inplace=True)"
      ],
      "metadata": {
        "id": "b8nksrevqqlG"
      },
      "execution_count": null,
      "outputs": []
    },
    {
      "cell_type": "code",
      "source": [
        "# df['Attrition'] = df['Attrition'].map({'Yes': 1, 'No': 0}) # This mapping is not needed as 'left' column already has numerical values (0 and 1)"
      ],
      "metadata": {
        "id": "xDkCk__Iqy41"
      },
      "execution_count": null,
      "outputs": []
    },
    {
      "cell_type": "code",
      "source": [
        "# Try to find the Attrition-like column automatically\n",
        "for col in df.columns:\n",
        "    if 'attrition' in col.lower() or 'left' in col.lower() or 'turnover' in col.lower() or 'resign' in col.lower():\n",
        "        print(f\"Detected attrition column: {col}\")\n",
        "        df.rename(columns={col: 'Attrition'}, inplace=True)\n",
        "        break\n",
        "else:\n",
        "    raise KeyError(\"❌ Could not find an Attrition column. Please check your dataset column names manually.\")\n",
        "\n",
        "# Now map Yes/No to 1/0\n",
        "df['Attrition'] = df['Attrition'].map({'Yes': 1, 'No': 0, 1: 1, 0: 0})"
      ],
      "metadata": {
        "colab": {
          "base_uri": "https://localhost:8080/"
        },
        "id": "5Zj5O380rFxv",
        "outputId": "f77b16b2-9546-4629-9951-369d74ead60d"
      },
      "execution_count": null,
      "outputs": [
        {
          "output_type": "stream",
          "name": "stdout",
          "text": [
            "Detected attrition column: Attrition\n"
          ]
        }
      ]
    },
    {
      "cell_type": "code",
      "source": [
        "import pandas as pd\n",
        "import matplotlib.pyplot as plt\n",
        "import seaborn as sns\n",
        "\n",
        "# Load dataset\n",
        "df = pd.read_csv(\"hr_analytics.csv\")\n",
        "\n",
        "# Display first few rows\n",
        "df.head()\n"
      ],
      "metadata": {
        "colab": {
          "base_uri": "https://localhost:8080/",
          "height": 226
        },
        "id": "V9rkhjIZrIAx",
        "outputId": "05062579-b11b-4ef2-efea-8a704893bfa7"
      },
      "execution_count": null,
      "outputs": [
        {
          "output_type": "execute_result",
          "data": {
            "text/plain": [
              "   satisfaction_level  last_evaluation  number_project  average_montly_hours  \\\n",
              "0                0.38             0.53               2                   157   \n",
              "1                0.80             0.86               5                   262   \n",
              "2                0.11             0.88               7                   272   \n",
              "3                0.72             0.87               5                   223   \n",
              "4                0.37             0.52               2                   159   \n",
              "\n",
              "   time_spend_company  Work_accident  left  promotion_last_5years  sales  \\\n",
              "0                   3              0     1                      0  sales   \n",
              "1                   6              0     1                      0  sales   \n",
              "2                   4              0     1                      0  sales   \n",
              "3                   5              0     1                      0  sales   \n",
              "4                   3              0     1                      0  sales   \n",
              "\n",
              "   salary  \n",
              "0     low  \n",
              "1  medium  \n",
              "2  medium  \n",
              "3     low  \n",
              "4     low  "
            ],
            "text/html": [
              "\n",
              "  <div id=\"df-146c74e8-5ac6-4d1b-a343-6081e347e04a\" class=\"colab-df-container\">\n",
              "    <div>\n",
              "<style scoped>\n",
              "    .dataframe tbody tr th:only-of-type {\n",
              "        vertical-align: middle;\n",
              "    }\n",
              "\n",
              "    .dataframe tbody tr th {\n",
              "        vertical-align: top;\n",
              "    }\n",
              "\n",
              "    .dataframe thead th {\n",
              "        text-align: right;\n",
              "    }\n",
              "</style>\n",
              "<table border=\"1\" class=\"dataframe\">\n",
              "  <thead>\n",
              "    <tr style=\"text-align: right;\">\n",
              "      <th></th>\n",
              "      <th>satisfaction_level</th>\n",
              "      <th>last_evaluation</th>\n",
              "      <th>number_project</th>\n",
              "      <th>average_montly_hours</th>\n",
              "      <th>time_spend_company</th>\n",
              "      <th>Work_accident</th>\n",
              "      <th>left</th>\n",
              "      <th>promotion_last_5years</th>\n",
              "      <th>sales</th>\n",
              "      <th>salary</th>\n",
              "    </tr>\n",
              "  </thead>\n",
              "  <tbody>\n",
              "    <tr>\n",
              "      <th>0</th>\n",
              "      <td>0.38</td>\n",
              "      <td>0.53</td>\n",
              "      <td>2</td>\n",
              "      <td>157</td>\n",
              "      <td>3</td>\n",
              "      <td>0</td>\n",
              "      <td>1</td>\n",
              "      <td>0</td>\n",
              "      <td>sales</td>\n",
              "      <td>low</td>\n",
              "    </tr>\n",
              "    <tr>\n",
              "      <th>1</th>\n",
              "      <td>0.80</td>\n",
              "      <td>0.86</td>\n",
              "      <td>5</td>\n",
              "      <td>262</td>\n",
              "      <td>6</td>\n",
              "      <td>0</td>\n",
              "      <td>1</td>\n",
              "      <td>0</td>\n",
              "      <td>sales</td>\n",
              "      <td>medium</td>\n",
              "    </tr>\n",
              "    <tr>\n",
              "      <th>2</th>\n",
              "      <td>0.11</td>\n",
              "      <td>0.88</td>\n",
              "      <td>7</td>\n",
              "      <td>272</td>\n",
              "      <td>4</td>\n",
              "      <td>0</td>\n",
              "      <td>1</td>\n",
              "      <td>0</td>\n",
              "      <td>sales</td>\n",
              "      <td>medium</td>\n",
              "    </tr>\n",
              "    <tr>\n",
              "      <th>3</th>\n",
              "      <td>0.72</td>\n",
              "      <td>0.87</td>\n",
              "      <td>5</td>\n",
              "      <td>223</td>\n",
              "      <td>5</td>\n",
              "      <td>0</td>\n",
              "      <td>1</td>\n",
              "      <td>0</td>\n",
              "      <td>sales</td>\n",
              "      <td>low</td>\n",
              "    </tr>\n",
              "    <tr>\n",
              "      <th>4</th>\n",
              "      <td>0.37</td>\n",
              "      <td>0.52</td>\n",
              "      <td>2</td>\n",
              "      <td>159</td>\n",
              "      <td>3</td>\n",
              "      <td>0</td>\n",
              "      <td>1</td>\n",
              "      <td>0</td>\n",
              "      <td>sales</td>\n",
              "      <td>low</td>\n",
              "    </tr>\n",
              "  </tbody>\n",
              "</table>\n",
              "</div>\n",
              "    <div class=\"colab-df-buttons\">\n",
              "\n",
              "  <div class=\"colab-df-container\">\n",
              "    <button class=\"colab-df-convert\" onclick=\"convertToInteractive('df-146c74e8-5ac6-4d1b-a343-6081e347e04a')\"\n",
              "            title=\"Convert this dataframe to an interactive table.\"\n",
              "            style=\"display:none;\">\n",
              "\n",
              "  <svg xmlns=\"http://www.w3.org/2000/svg\" height=\"24px\" viewBox=\"0 -960 960 960\">\n",
              "    <path d=\"M120-120v-720h720v720H120Zm60-500h600v-160H180v160Zm220 220h160v-160H400v160Zm0 220h160v-160H400v160ZM180-400h160v-160H180v160Zm440 0h160v-160H620v160ZM180-180h160v-160H180v160Zm440 0h160v-160H620v160Z\"/>\n",
              "  </svg>\n",
              "    </button>\n",
              "\n",
              "  <style>\n",
              "    .colab-df-container {\n",
              "      display:flex;\n",
              "      gap: 12px;\n",
              "    }\n",
              "\n",
              "    .colab-df-convert {\n",
              "      background-color: #E8F0FE;\n",
              "      border: none;\n",
              "      border-radius: 50%;\n",
              "      cursor: pointer;\n",
              "      display: none;\n",
              "      fill: #1967D2;\n",
              "      height: 32px;\n",
              "      padding: 0 0 0 0;\n",
              "      width: 32px;\n",
              "    }\n",
              "\n",
              "    .colab-df-convert:hover {\n",
              "      background-color: #E2EBFA;\n",
              "      box-shadow: 0px 1px 2px rgba(60, 64, 67, 0.3), 0px 1px 3px 1px rgba(60, 64, 67, 0.15);\n",
              "      fill: #174EA6;\n",
              "    }\n",
              "\n",
              "    .colab-df-buttons div {\n",
              "      margin-bottom: 4px;\n",
              "    }\n",
              "\n",
              "    [theme=dark] .colab-df-convert {\n",
              "      background-color: #3B4455;\n",
              "      fill: #D2E3FC;\n",
              "    }\n",
              "\n",
              "    [theme=dark] .colab-df-convert:hover {\n",
              "      background-color: #434B5C;\n",
              "      box-shadow: 0px 1px 3px 1px rgba(0, 0, 0, 0.15);\n",
              "      filter: drop-shadow(0px 1px 2px rgba(0, 0, 0, 0.3));\n",
              "      fill: #FFFFFF;\n",
              "    }\n",
              "  </style>\n",
              "\n",
              "    <script>\n",
              "      const buttonEl =\n",
              "        document.querySelector('#df-146c74e8-5ac6-4d1b-a343-6081e347e04a button.colab-df-convert');\n",
              "      buttonEl.style.display =\n",
              "        google.colab.kernel.accessAllowed ? 'block' : 'none';\n",
              "\n",
              "      async function convertToInteractive(key) {\n",
              "        const element = document.querySelector('#df-146c74e8-5ac6-4d1b-a343-6081e347e04a');\n",
              "        const dataTable =\n",
              "          await google.colab.kernel.invokeFunction('convertToInteractive',\n",
              "                                                    [key], {});\n",
              "        if (!dataTable) return;\n",
              "\n",
              "        const docLinkHtml = 'Like what you see? Visit the ' +\n",
              "          '<a target=\"_blank\" href=https://colab.research.google.com/notebooks/data_table.ipynb>data table notebook</a>'\n",
              "          + ' to learn more about interactive tables.';\n",
              "        element.innerHTML = '';\n",
              "        dataTable['output_type'] = 'display_data';\n",
              "        await google.colab.output.renderOutput(dataTable, element);\n",
              "        const docLink = document.createElement('div');\n",
              "        docLink.innerHTML = docLinkHtml;\n",
              "        element.appendChild(docLink);\n",
              "      }\n",
              "    </script>\n",
              "  </div>\n",
              "\n",
              "\n",
              "    <div id=\"df-c9c7dd6e-676c-4ee5-bf8e-7f6a6e74c20b\">\n",
              "      <button class=\"colab-df-quickchart\" onclick=\"quickchart('df-c9c7dd6e-676c-4ee5-bf8e-7f6a6e74c20b')\"\n",
              "                title=\"Suggest charts\"\n",
              "                style=\"display:none;\">\n",
              "\n",
              "<svg xmlns=\"http://www.w3.org/2000/svg\" height=\"24px\"viewBox=\"0 0 24 24\"\n",
              "     width=\"24px\">\n",
              "    <g>\n",
              "        <path d=\"M19 3H5c-1.1 0-2 .9-2 2v14c0 1.1.9 2 2 2h14c1.1 0 2-.9 2-2V5c0-1.1-.9-2-2-2zM9 17H7v-7h2v7zm4 0h-2V7h2v10zm4 0h-2v-4h2v4z\"/>\n",
              "    </g>\n",
              "</svg>\n",
              "      </button>\n",
              "\n",
              "<style>\n",
              "  .colab-df-quickchart {\n",
              "      --bg-color: #E8F0FE;\n",
              "      --fill-color: #1967D2;\n",
              "      --hover-bg-color: #E2EBFA;\n",
              "      --hover-fill-color: #174EA6;\n",
              "      --disabled-fill-color: #AAA;\n",
              "      --disabled-bg-color: #DDD;\n",
              "  }\n",
              "\n",
              "  [theme=dark] .colab-df-quickchart {\n",
              "      --bg-color: #3B4455;\n",
              "      --fill-color: #D2E3FC;\n",
              "      --hover-bg-color: #434B5C;\n",
              "      --hover-fill-color: #FFFFFF;\n",
              "      --disabled-bg-color: #3B4455;\n",
              "      --disabled-fill-color: #666;\n",
              "  }\n",
              "\n",
              "  .colab-df-quickchart {\n",
              "    background-color: var(--bg-color);\n",
              "    border: none;\n",
              "    border-radius: 50%;\n",
              "    cursor: pointer;\n",
              "    display: none;\n",
              "    fill: var(--fill-color);\n",
              "    height: 32px;\n",
              "    padding: 0;\n",
              "    width: 32px;\n",
              "  }\n",
              "\n",
              "  .colab-df-quickchart:hover {\n",
              "    background-color: var(--hover-bg-color);\n",
              "    box-shadow: 0 1px 2px rgba(60, 64, 67, 0.3), 0 1px 3px 1px rgba(60, 64, 67, 0.15);\n",
              "    fill: var(--button-hover-fill-color);\n",
              "  }\n",
              "\n",
              "  .colab-df-quickchart-complete:disabled,\n",
              "  .colab-df-quickchart-complete:disabled:hover {\n",
              "    background-color: var(--disabled-bg-color);\n",
              "    fill: var(--disabled-fill-color);\n",
              "    box-shadow: none;\n",
              "  }\n",
              "\n",
              "  .colab-df-spinner {\n",
              "    border: 2px solid var(--fill-color);\n",
              "    border-color: transparent;\n",
              "    border-bottom-color: var(--fill-color);\n",
              "    animation:\n",
              "      spin 1s steps(1) infinite;\n",
              "  }\n",
              "\n",
              "  @keyframes spin {\n",
              "    0% {\n",
              "      border-color: transparent;\n",
              "      border-bottom-color: var(--fill-color);\n",
              "      border-left-color: var(--fill-color);\n",
              "    }\n",
              "    20% {\n",
              "      border-color: transparent;\n",
              "      border-left-color: var(--fill-color);\n",
              "      border-top-color: var(--fill-color);\n",
              "    }\n",
              "    30% {\n",
              "      border-color: transparent;\n",
              "      border-left-color: var(--fill-color);\n",
              "      border-top-color: var(--fill-color);\n",
              "      border-right-color: var(--fill-color);\n",
              "    }\n",
              "    40% {\n",
              "      border-color: transparent;\n",
              "      border-right-color: var(--fill-color);\n",
              "      border-top-color: var(--fill-color);\n",
              "    }\n",
              "    60% {\n",
              "      border-color: transparent;\n",
              "      border-right-color: var(--fill-color);\n",
              "    }\n",
              "    80% {\n",
              "      border-color: transparent;\n",
              "      border-right-color: var(--fill-color);\n",
              "      border-bottom-color: var(--fill-color);\n",
              "    }\n",
              "    90% {\n",
              "      border-color: transparent;\n",
              "      border-bottom-color: var(--fill-color);\n",
              "    }\n",
              "  }\n",
              "</style>\n",
              "\n",
              "      <script>\n",
              "        async function quickchart(key) {\n",
              "          const quickchartButtonEl =\n",
              "            document.querySelector('#' + key + ' button');\n",
              "          quickchartButtonEl.disabled = true;  // To prevent multiple clicks.\n",
              "          quickchartButtonEl.classList.add('colab-df-spinner');\n",
              "          try {\n",
              "            const charts = await google.colab.kernel.invokeFunction(\n",
              "                'suggestCharts', [key], {});\n",
              "          } catch (error) {\n",
              "            console.error('Error during call to suggestCharts:', error);\n",
              "          }\n",
              "          quickchartButtonEl.classList.remove('colab-df-spinner');\n",
              "          quickchartButtonEl.classList.add('colab-df-quickchart-complete');\n",
              "        }\n",
              "        (() => {\n",
              "          let quickchartButtonEl =\n",
              "            document.querySelector('#df-c9c7dd6e-676c-4ee5-bf8e-7f6a6e74c20b button');\n",
              "          quickchartButtonEl.style.display =\n",
              "            google.colab.kernel.accessAllowed ? 'block' : 'none';\n",
              "        })();\n",
              "      </script>\n",
              "    </div>\n",
              "\n",
              "    </div>\n",
              "  </div>\n"
            ],
            "application/vnd.google.colaboratory.intrinsic+json": {
              "type": "dataframe",
              "variable_name": "df",
              "summary": "{\n  \"name\": \"df\",\n  \"rows\": 14999,\n  \"fields\": [\n    {\n      \"column\": \"satisfaction_level\",\n      \"properties\": {\n        \"dtype\": \"number\",\n        \"std\": 0.2486306510611418,\n        \"min\": 0.09,\n        \"max\": 1.0,\n        \"num_unique_values\": 92,\n        \"samples\": [\n          0.83,\n          0.13,\n          0.55\n        ],\n        \"semantic_type\": \"\",\n        \"description\": \"\"\n      }\n    },\n    {\n      \"column\": \"last_evaluation\",\n      \"properties\": {\n        \"dtype\": \"number\",\n        \"std\": 0.17116911062327592,\n        \"min\": 0.36,\n        \"max\": 1.0,\n        \"num_unique_values\": 65,\n        \"samples\": [\n          0.66,\n          0.44,\n          0.53\n        ],\n        \"semantic_type\": \"\",\n        \"description\": \"\"\n      }\n    },\n    {\n      \"column\": \"number_project\",\n      \"properties\": {\n        \"dtype\": \"number\",\n        \"std\": 1,\n        \"min\": 2,\n        \"max\": 7,\n        \"num_unique_values\": 6,\n        \"samples\": [\n          2,\n          5,\n          3\n        ],\n        \"semantic_type\": \"\",\n        \"description\": \"\"\n      }\n    },\n    {\n      \"column\": \"average_montly_hours\",\n      \"properties\": {\n        \"dtype\": \"number\",\n        \"std\": 49,\n        \"min\": 96,\n        \"max\": 310,\n        \"num_unique_values\": 215,\n        \"samples\": [\n          118,\n          112,\n          222\n        ],\n        \"semantic_type\": \"\",\n        \"description\": \"\"\n      }\n    },\n    {\n      \"column\": \"time_spend_company\",\n      \"properties\": {\n        \"dtype\": \"number\",\n        \"std\": 1,\n        \"min\": 2,\n        \"max\": 10,\n        \"num_unique_values\": 8,\n        \"samples\": [\n          6,\n          8,\n          3\n        ],\n        \"semantic_type\": \"\",\n        \"description\": \"\"\n      }\n    },\n    {\n      \"column\": \"Work_accident\",\n      \"properties\": {\n        \"dtype\": \"number\",\n        \"std\": 0,\n        \"min\": 0,\n        \"max\": 1,\n        \"num_unique_values\": 2,\n        \"samples\": [\n          1,\n          0\n        ],\n        \"semantic_type\": \"\",\n        \"description\": \"\"\n      }\n    },\n    {\n      \"column\": \"left\",\n      \"properties\": {\n        \"dtype\": \"number\",\n        \"std\": 0,\n        \"min\": 0,\n        \"max\": 1,\n        \"num_unique_values\": 2,\n        \"samples\": [\n          0,\n          1\n        ],\n        \"semantic_type\": \"\",\n        \"description\": \"\"\n      }\n    },\n    {\n      \"column\": \"promotion_last_5years\",\n      \"properties\": {\n        \"dtype\": \"number\",\n        \"std\": 0,\n        \"min\": 0,\n        \"max\": 1,\n        \"num_unique_values\": 2,\n        \"samples\": [\n          1,\n          0\n        ],\n        \"semantic_type\": \"\",\n        \"description\": \"\"\n      }\n    },\n    {\n      \"column\": \"sales\",\n      \"properties\": {\n        \"dtype\": \"category\",\n        \"num_unique_values\": 10,\n        \"samples\": [\n          \"marketing\",\n          \"accounting\"\n        ],\n        \"semantic_type\": \"\",\n        \"description\": \"\"\n      }\n    },\n    {\n      \"column\": \"salary\",\n      \"properties\": {\n        \"dtype\": \"category\",\n        \"num_unique_values\": 3,\n        \"samples\": [\n          \"low\",\n          \"medium\"\n        ],\n        \"semantic_type\": \"\",\n        \"description\": \"\"\n      }\n    }\n  ]\n}"
            }
          },
          "metadata": {},
          "execution_count": 8
        }
      ]
    },
    {
      "cell_type": "code",
      "source": [
        "# Check available columns\n",
        "print(\"Columns:\", df.columns.tolist())\n",
        "\n",
        "# Automatically find attrition-like column\n",
        "for col in df.columns:\n",
        "    if 'attrition' in col.lower() or 'left' in col.lower() or 'turnover' in col.lower():\n",
        "        df.rename(columns={col: 'Attrition'}, inplace=True)\n",
        "        print(f\"✅ Renamed {col} → Attrition\")\n",
        "        break\n",
        "\n",
        "# Convert Attrition to 1/0 (Yes=1, No=0)\n",
        "df['Attrition'] = df['Attrition'].map({'Yes': 1, 'No': 0, 1: 1, 0: 0})\n",
        "\n",
        "# Check counts\n",
        "print(df['Attrition'].value_counts())"
      ],
      "metadata": {
        "colab": {
          "base_uri": "https://localhost:8080/"
        },
        "id": "9PyU4GGMrLvM",
        "outputId": "7e08964d-e38e-4766-b5e6-323d1915c080"
      },
      "execution_count": null,
      "outputs": [
        {
          "output_type": "stream",
          "name": "stdout",
          "text": [
            "Columns: ['satisfaction_level', 'last_evaluation', 'number_project', 'average_montly_hours', 'time_spend_company', 'Work_accident', 'left', 'promotion_last_5years', 'sales', 'salary']\n",
            "✅ Renamed left → Attrition\n",
            "Attrition\n",
            "0    11428\n",
            "1     3571\n",
            "Name: count, dtype: int64\n"
          ]
        }
      ]
    },
    {
      "cell_type": "code",
      "source": [
        "# Select numeric columns only\n",
        "corr = df.corr(numeric_only=True)\n",
        "\n",
        "# Get top correlated features with Attrition\n",
        "attr_corr = corr['Attrition'].sort_values(ascending=False)\n",
        "print(\"Top factors correlated with Attrition:\")\n",
        "print(attr_corr.head(10))\n"
      ],
      "metadata": {
        "colab": {
          "base_uri": "https://localhost:8080/"
        },
        "id": "-K8xLKt1rYfj",
        "outputId": "86a75549-ddc2-4f60-86d8-9f2b684caa7d"
      },
      "execution_count": null,
      "outputs": [
        {
          "output_type": "stream",
          "name": "stdout",
          "text": [
            "Top factors correlated with Attrition:\n",
            "Attrition                1.000000\n",
            "time_spend_company       0.144822\n",
            "average_montly_hours     0.071287\n",
            "number_project           0.023787\n",
            "last_evaluation          0.006567\n",
            "promotion_last_5years   -0.061788\n",
            "Work_accident           -0.154622\n",
            "satisfaction_level      -0.388375\n",
            "Name: Attrition, dtype: float64\n"
          ]
        }
      ]
    },
    {
      "cell_type": "code",
      "source": [
        "plt.figure(figsize=(10,6))\n",
        "sns.heatmap(corr, cmap='coolwarm', center=0)\n",
        "plt.title(\"Correlation Heatmap - HR Analytics\")\n",
        "plt.show()\n"
      ],
      "metadata": {
        "colab": {
          "base_uri": "https://localhost:8080/",
          "height": 621
        },
        "id": "YlykvkrfraqQ",
        "outputId": "8ad0298d-76ff-4616-bb72-fbd854ce6344"
      },
      "execution_count": null,
      "outputs": [
        {
          "output_type": "display_data",
          "data": {
            "text/plain": [
              "<Figure size 1000x600 with 2 Axes>"
            ],
            "image/png": "[encoded data removed]"
          },
          "metadata": {}
        }
      ]
    },
    {
      "cell_type": "code",
      "source": [
        "print(df.columns.tolist())"
      ],
      "metadata": {
        "colab": {
          "base_uri": "https://localhost:8080/"
        },
        "id": "XN7zkd3treEN",
        "outputId": "354a40ed-6454-4b1c-ef92-1c95ee175782"
      },
      "execution_count": null,
      "outputs": [
        {
          "output_type": "stream",
          "name": "stdout",
          "text": [
            "['satisfaction_level', 'last_evaluation', 'number_project', 'average_montly_hours', 'time_spend_company', 'Work_accident', 'Attrition', 'promotion_last_5years', 'sales', 'salary']\n"
          ]
        }
      ]
    },
    {
      "cell_type": "code",
      "source": [
        "['satisfaction_level', 'last_evaluation', 'number_project',\n",
        " 'average_montly_hours', 'time_spend_company', 'Work_accident',\n",
        " 'promotion_last_5years', 'salary', 'left']"
      ],
      "metadata": {
        "colab": {
          "base_uri": "https://localhost:8080/"
        },
        "id": "uPrJLFdlrhH1",
        "outputId": "d547fe87-eaee-4382-ad3a-08a526118536"
      },
      "execution_count": null,
      "outputs": [
        {
          "output_type": "execute_result",
          "data": {
            "text/plain": [
              "['satisfaction_level',\n",
              " 'last_evaluation',\n",
              " 'number_project',\n",
              " 'average_montly_hours',\n",
              " 'time_spend_company',\n",
              " 'Work_accident',\n",
              " 'promotion_last_5years',\n",
              " 'salary',\n",
              " 'left']"
            ]
          },
          "metadata": {},
          "execution_count": 13
        }
      ]
    },
    {
      "cell_type": "code",
      "source": [
        "import matplotlib.pyplot as plt\n",
        "import seaborn as sns\n",
        "\n",
        "plt.figure(figsize=(14,6))\n",
        "\n",
        "# Satisfaction vs Attrition\n",
        "plt.subplot(1,3,1)\n",
        "sns.boxplot(x='Attrition', y='satisfaction_level', data=df)\n",
        "plt.title('Attrition vs Satisfaction Level')\n",
        "\n",
        "# Salary vs Attrition\n",
        "plt.subplot(1,3,2)\n",
        "sns.countplot(x='salary', hue='Attrition', data=df)\n",
        "plt.title('Salary vs Attrition')\n",
        "\n",
        "# Average Monthly Hours vs Attrition\n",
        "plt.subplot(1,3,3)\n",
        "sns.boxplot(x='Attrition', y='average_montly_hours', data=df)\n",
        "plt.title('Attrition vs Monthly Hours')\n",
        "\n",
        "plt.tight_layout()\n",
        "plt.show()"
      ],
      "metadata": {
        "colab": {
          "base_uri": "https://localhost:8080/",
          "height": 366
        },
        "id": "-rW8Nhgyrjob",
        "outputId": "654e2f40-8c00-40df-aa9d-9e56316585b7"
      },
      "execution_count": null,
      "outputs": [
        {
          "output_type": "display_data",
          "data": {
            "text/plain": [
              "<Figure size 1400x600 with 3 Axes>"
            ],
            "image/png": "[encoded data removed]"
          },
          "metadata": {}
        }
      ]
    },
    {
      "cell_type": "code",
      "source": [
        "df.rename(columns={'left': 'Attrition'}, inplace=True)"
      ],
      "metadata": {
        "id": "T7ZXEl2erroD"
      },
      "execution_count": null,
      "outputs": []
    },
    {
      "cell_type": "code",
      "source": [
        "df['Attrition'].value_counts()"
      ],
      "metadata": {
        "colab": {
          "base_uri": "https://localhost:8080/",
          "height": 178
        },
        "id": "NLotP4sLr3V-",
        "outputId": "9dc9bfd3-40fd-44e0-a824-16146ddae9e6"
      },
      "execution_count": null,
      "outputs": [
        {
          "output_type": "execute_result",
          "data": {
            "text/plain": [
              "Attrition\n",
              "0    11428\n",
              "1     3571\n",
              "Name: count, dtype: int64"
            ],
            "text/html": [
              "<div>\n",
              "<style scoped>\n",
              "    .dataframe tbody tr th:only-of-type {\n",
              "        vertical-align: middle;\n",
              "    }\n",
              "\n",
              "    .dataframe tbody tr th {\n",
              "        vertical-align: top;\n",
              "    }\n",
              "\n",
              "    .dataframe thead th {\n",
              "        text-align: right;\n",
              "    }\n",
              "</style>\n",
              "<table border=\"1\" class=\"dataframe\">\n",
              "  <thead>\n",
              "    <tr style=\"text-align: right;\">\n",
              "      <th></th>\n",
              "      <th>count</th>\n",
              "    </tr>\n",
              "    <tr>\n",
              "      <th>Attrition</th>\n",
              "      <th></th>\n",
              "    </tr>\n",
              "  </thead>\n",
              "  <tbody>\n",
              "    <tr>\n",
              "      <th>0</th>\n",
              "      <td>11428</td>\n",
              "    </tr>\n",
              "    <tr>\n",
              "      <th>1</th>\n",
              "      <td>3571</td>\n",
              "    </tr>\n",
              "  </tbody>\n",
              "</table>\n",
              "</div><br><label><b>dtype:</b> int64</label>"
            ]
          },
          "metadata": {},
          "execution_count": 16
        }
      ]
    },
    {
      "cell_type": "code",
      "source": [
        "plt.figure(figsize=(7,5))\n",
        "sns.boxplot(x='Attrition', y='number_project', data=df)\n",
        "plt.title('Attrition vs Number of Projects')\n",
        "plt.show()\n"
      ],
      "metadata": {
        "colab": {
          "base_uri": "https://localhost:8080/",
          "height": 487
        },
        "id": "mv6H-5F5r7oD",
        "outputId": "b86babef-e973-4b7d-be9f-7f1f4b4250ef"
      },
      "execution_count": null,
      "outputs": [
        {
          "output_type": "display_data",
          "data": {
            "text/plain": [
              "<Figure size 700x500 with 1 Axes>"
            ],
            "image/png": "[encoded data removed]"
          },
          "metadata": {}
        }
      ]
    },
    {
      "cell_type": "markdown",
      "source": [
        "Employee Attrition and Number of Projects:-\n",
        "\n",
        "The analysis of employee attrition based on the number of projects reveals a non-linear relationship, as visualized in the bar plot:\n",
        "\n",
        "- Employees with a low number of projects (2) have a high attrition rate. This could indicate that these employees are not engaged or challenged by their work, leading to dissatisfaction and departure.\n",
        "- Employees with an average number of projects (3, 4, and 5) show significantly lower attrition rates. This suggests that having a balanced workload contributes to higher retention.\n",
        "- Employees with a high number of projects (6 and 7) have a very high attrition rate, with those having 7 projects showing 100% attrition in this dataset. This strongly suggests that being overloaded with too many projects leads to burnout and a high likelihood of leaving the company.\n",
        "- Therefore, employees with both too few and too many projects are more likely to leave, with the highest risk of attrition observed at the extreme ends of the number of projects spectrum.\n",
        "\n",
        "Summary:-\n",
        "\n",
        "Data Analysis Key Findings:-\n",
        "\n",
        "- The factor most strongly negatively correlated with attrition is satisfaction_level (-0.388), indicating that lower satisfaction is associated with a higher likelihood of leaving.\n",
        "- Time_spend_company has the strongest positive correlation with attrition (0.145).\n",
        "- Attrition is notably higher among employees with 'low' and 'medium' salaries compared to those with 'high' salaries.\n",
        "- The attrition rate varies significantly with the number of projects:\n",
        "   - Employees with 2 projects have a high attrition rate.\n",
        "   - Employees with 3, 4, and 5 projects show lower attrition rates.\n",
        "   - Employees with 6 and 7 projects have very high attrition rates, with a 100% attrition rate observed for those with 7 projects in this dataset.\n",
        "\n",
        "- Insights or Next Steps:-\n",
        "\n",
        "    - Investigate the reasons behind high attrition for employees with both very low (2) and very high (6 and 7) numbers of projects. This could involve qualitative analysis or surveys to understand workload perception and engagement levels.\n",
        "\n",
        "    - Explore the relationship between satisfaction_level, time_spend_company, and salary in more detail, potentially looking for interaction effects or thresholds that significantly increase attrition risk."
      ],
      "metadata": {
        "id": "snD1R6V-sZll"
      }
    }
  ]
}